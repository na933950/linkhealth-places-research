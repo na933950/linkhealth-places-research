{
 "cells": [
  {
   "cell_type": "markdown",
   "id": "d08e8bad",
   "metadata": {},
   "source": [
    "<h1> Attempting to Use the US Census Bureau API to Streamline the CSV Collection Process</h1>"
   ]
  },
  {
   "cell_type": "markdown",
   "id": "d7d79cee",
   "metadata": {},
   "source": [
    "<h2><b>IMPORTANT:</b><br><span style=\"color:red;\">This product uses the Census Bureau Data API but is not endorsed or certified by the Census Bureau.</span></h2>"
   ]
  },
  {
   "cell_type": "code",
   "execution_count": 141,
   "id": "952c2f9a",
   "metadata": {},
   "outputs": [],
   "source": [
    "import pandas as pd\n",
    "import numpy as np\n",
    "import requests\n",
    "import csv\n",
    "import warnings\n",
    "warnings.simplefilter('ignore') #Turn off warnings"
   ]
  },
  {
   "cell_type": "markdown",
   "id": "4b54b330",
   "metadata": {},
   "source": [
    "<h2>Testing the API With a Set URL</h2>"
   ]
  },
  {
   "cell_type": "code",
   "execution_count": 518,
   "id": "f473c91f",
   "metadata": {},
   "outputs": [],
   "source": [
    "base_url = \"https://api.census.gov/data/2021/acs/acs5/profile?get=\"\n",
    "api_key = \"672276f2a0ad053d60f8bb0848cad8a290a29427\"\n",
    "variables = \"DP02_0001E,DP02_0001M,DP02_0001PE,DP02_0001PM\" # List of Variables we want to collect\n",
    "# cant do it with all variables for some reason.\n",
    "zcta_url = \"&for=zip%20code%20tabulation%20area:\" # need to include a 0 at the end when using the ZCTA range\n",
    "MA_filter = \"&in=state:25*\" # filtering for ZCTAs in MA"
   ]
  },
  {
   "cell_type": "code",
   "execution_count": 519,
   "id": "08b3aa58",
   "metadata": {},
   "outputs": [],
   "source": [
    "test_url = f\"{base_url}{variables}{zcta_url}01001&key={api_key}\""
   ]
  },
  {
   "cell_type": "code",
   "execution_count": 520,
   "id": "af4edf76",
   "metadata": {},
   "outputs": [
    {
     "data": {
      "text/plain": [
       "(['DP02_0001E',\n",
       "  'DP02_0001M',\n",
       "  'DP02_0001PE',\n",
       "  'DP02_0001PM',\n",
       "  'zip code tabulation area'],\n",
       " [['6791', '345', '6791', '-888888888', '01001']])"
      ]
     },
     "execution_count": 520,
     "metadata": {},
     "output_type": "execute_result"
    }
   ],
   "source": [
    "response = requests.get(test_url)\n",
    "data = response.json()\n",
    "header = data[0]\n",
    "rows = data[1:]\n",
    "header, rows\n",
    "# Getting correct values from MA ZCTA501001 Total Households Estimate and Margin of Error."
   ]
  },
  {
   "cell_type": "markdown",
   "id": "511ca362",
   "metadata": {},
   "source": [
    "I was able to get the correct values for the first row, but am struggling to find a way to get all the values for the all of the variables in the table."
   ]
  },
  {
   "cell_type": "markdown",
   "id": "7d823451",
   "metadata": {},
   "source": [
    "<h2> Trying to use All Available Variables Instead of Just DP02_0001E and DP02_0001M </h2>"
   ]
  },
  {
   "cell_type": "code",
   "execution_count": 411,
   "id": "6f01eee8",
   "metadata": {},
   "outputs": [
    {
     "data": {
      "text/html": [
       "<div>\n",
       "<style scoped>\n",
       "    .dataframe tbody tr th:only-of-type {\n",
       "        vertical-align: middle;\n",
       "    }\n",
       "\n",
       "    .dataframe tbody tr th {\n",
       "        vertical-align: top;\n",
       "    }\n",
       "\n",
       "    .dataframe thead th {\n",
       "        text-align: right;\n",
       "    }\n",
       "</style>\n",
       "<table border=\"1\" class=\"dataframe\">\n",
       "  <thead>\n",
       "    <tr style=\"text-align: right;\">\n",
       "      <th></th>\n",
       "      <th>Name</th>\n",
       "      <th>Label</th>\n",
       "      <th>Concept</th>\n",
       "      <th>Required</th>\n",
       "      <th>Attributes</th>\n",
       "      <th>Limit</th>\n",
       "      <th>Predicate Type</th>\n",
       "      <th>Group</th>\n",
       "      <th>Unnamed: 8</th>\n",
       "    </tr>\n",
       "  </thead>\n",
       "  <tbody>\n",
       "    <tr>\n",
       "      <th>0</th>\n",
       "      <td>DP02_0001E</td>\n",
       "      <td>Estimate HOUSEHOLDS BY TYPE Total households</td>\n",
       "      <td>SELECTED SOCIAL CHARACTERISTICS IN THE UNITED ...</td>\n",
       "      <td>predicate-only</td>\n",
       "      <td>NaN</td>\n",
       "      <td>0</td>\n",
       "      <td>int</td>\n",
       "      <td>DP02</td>\n",
       "      <td>NaN</td>\n",
       "    </tr>\n",
       "    <tr>\n",
       "      <th>1</th>\n",
       "      <td>DP02_0001EA</td>\n",
       "      <td>Annotation of Estimate HOUSEHOLDS BY TYPE Tota...</td>\n",
       "      <td>SELECTED SOCIAL CHARACTERISTICS IN THE UNITED ...</td>\n",
       "      <td>predicate-only</td>\n",
       "      <td>NaN</td>\n",
       "      <td>0</td>\n",
       "      <td>string</td>\n",
       "      <td>DP02</td>\n",
       "      <td>NaN</td>\n",
       "    </tr>\n",
       "    <tr>\n",
       "      <th>2</th>\n",
       "      <td>DP02_0001M</td>\n",
       "      <td>Margin of Error HOUSEHOLDS BY TYPE Total house...</td>\n",
       "      <td>SELECTED SOCIAL CHARACTERISTICS IN THE UNITED ...</td>\n",
       "      <td>predicate-only</td>\n",
       "      <td>NaN</td>\n",
       "      <td>0</td>\n",
       "      <td>int</td>\n",
       "      <td>DP02</td>\n",
       "      <td>NaN</td>\n",
       "    </tr>\n",
       "    <tr>\n",
       "      <th>3</th>\n",
       "      <td>DP02_0001MA</td>\n",
       "      <td>Annotation of Margin of Error HOUSEHOLDS BY TY...</td>\n",
       "      <td>SELECTED SOCIAL CHARACTERISTICS IN THE UNITED ...</td>\n",
       "      <td>predicate-only</td>\n",
       "      <td>NaN</td>\n",
       "      <td>0</td>\n",
       "      <td>string</td>\n",
       "      <td>DP02</td>\n",
       "      <td>NaN</td>\n",
       "    </tr>\n",
       "    <tr>\n",
       "      <th>4</th>\n",
       "      <td>DP02_0001PE</td>\n",
       "      <td>Percent HOUSEHOLDS BY TYPE Total households</td>\n",
       "      <td>SELECTED SOCIAL CHARACTERISTICS IN THE UNITED ...</td>\n",
       "      <td>predicate-only</td>\n",
       "      <td>NaN</td>\n",
       "      <td>0</td>\n",
       "      <td>int</td>\n",
       "      <td>DP02</td>\n",
       "      <td>NaN</td>\n",
       "    </tr>\n",
       "  </tbody>\n",
       "</table>\n",
       "</div>"
      ],
      "text/plain": [
       "          Name                                              Label  \\\n",
       "0   DP02_0001E       Estimate HOUSEHOLDS BY TYPE Total households   \n",
       "1  DP02_0001EA  Annotation of Estimate HOUSEHOLDS BY TYPE Tota...   \n",
       "2   DP02_0001M  Margin of Error HOUSEHOLDS BY TYPE Total house...   \n",
       "3  DP02_0001MA  Annotation of Margin of Error HOUSEHOLDS BY TY...   \n",
       "4  DP02_0001PE        Percent HOUSEHOLDS BY TYPE Total households   \n",
       "\n",
       "                                             Concept        Required  \\\n",
       "0  SELECTED SOCIAL CHARACTERISTICS IN THE UNITED ...  predicate-only   \n",
       "1  SELECTED SOCIAL CHARACTERISTICS IN THE UNITED ...  predicate-only   \n",
       "2  SELECTED SOCIAL CHARACTERISTICS IN THE UNITED ...  predicate-only   \n",
       "3  SELECTED SOCIAL CHARACTERISTICS IN THE UNITED ...  predicate-only   \n",
       "4  SELECTED SOCIAL CHARACTERISTICS IN THE UNITED ...  predicate-only   \n",
       "\n",
       "  Attributes Limit Predicate Type Group Unnamed: 8  \n",
       "0        NaN     0            int  DP02        NaN  \n",
       "1        NaN     0         string  DP02        NaN  \n",
       "2        NaN     0            int  DP02        NaN  \n",
       "3        NaN     0         string  DP02        NaN  \n",
       "4        NaN     0            int  DP02        NaN  "
      ]
     },
     "execution_count": 411,
     "metadata": {},
     "output_type": "execute_result"
    }
   ],
   "source": [
    "variable_table_url = f'https://api.census.gov/data/2021/acs/acs5/profile/groups/DP02.html'\n",
    "v_table = pd.read_html(variable_table_url) # reading all available variables from API for the ACS5\n",
    "variable_df = pd.DataFrame(v_table[0])\n",
    "variable_df['Label'].replace({\"!!\": \" \", \":\": \"\"}, regex=True, inplace=True)\n",
    "variable_df.head()"
   ]
  },
  {
   "cell_type": "markdown",
   "id": "b154c948",
   "metadata": {},
   "source": [
    "Created a DF from the table acs5 using the API that contains all the variable names, their corresponding labels, and other information."
   ]
  },
  {
   "cell_type": "code",
   "execution_count": 307,
   "id": "d9d562d2",
   "metadata": {},
   "outputs": [
    {
     "data": {
      "text/plain": [
       "0       DP02_0001E\n",
       "1       DP02_0001M\n",
       "2      DP02_0001PE\n",
       "3      DP02_0001PM\n",
       "4       DP02_0002E\n",
       "          ...     \n",
       "611    DP02_0153PM\n",
       "612     DP02_0154E\n",
       "613     DP02_0154M\n",
       "614    DP02_0154PE\n",
       "615    DP02_0154PM\n",
       "Name: Name, Length: 616, dtype: object"
      ]
     },
     "execution_count": 307,
     "metadata": {},
     "output_type": "execute_result"
    }
   ],
   "source": [
    "variable_table = variable_df['Name'][0:1232]\n",
    "variable_table = variable_table[~variable_table.str.endswith('A')] # want to remove values ending in A\n",
    "variable_table.reset_index(drop = True, inplace = True)\n",
    "variable_table"
   ]
  },
  {
   "cell_type": "markdown",
   "id": "5468d8a3",
   "metadata": {},
   "source": [
    "Used the DF to then create a Series of just the variable labels, also filtered out all Annotation variables."
   ]
  },
  {
   "cell_type": "code",
   "execution_count": 313,
   "id": "09238e2e",
   "metadata": {},
   "outputs": [],
   "source": [
    "all_variables = ','.join(variable_table.values)"
   ]
  },
  {
   "cell_type": "markdown",
   "id": "4babedd6",
   "metadata": {},
   "source": [
    "Created a comma separated string of all variables in order to pass it into the query."
   ]
  },
  {
   "cell_type": "code",
   "execution_count": 354,
   "id": "5f7ead5a",
   "metadata": {},
   "outputs": [],
   "source": [
    "test_all_vars_url = f\"{base_url}{all_variables}{zcta_url}01001&key={api_key}\"\n",
    "response = requests.get(test_all_vars_url)"
   ]
  },
  {
   "cell_type": "code",
   "execution_count": 355,
   "id": "07c85dd4",
   "metadata": {},
   "outputs": [
    {
     "data": {
      "text/plain": [
       "<Response [400]>"
      ]
     },
     "execution_count": 355,
     "metadata": {},
     "output_type": "execute_result"
    }
   ],
   "source": [
    "response"
   ]
  },
  {
   "cell_type": "markdown",
   "id": "e570707a",
   "metadata": {},
   "source": [
    "Getting <Response [400]> meaning that there is an error (we want <Response [200]>), I believe its a problem with how many variables I am passing in because when I use a subset of the variables I dont run into the same error. \n",
    "\n",
    "Going to try and split up the sections of the table to create smaller tables which I will then merge into the complete table and get the CSV we want."
   ]
  },
  {
   "cell_type": "code",
   "execution_count": 392,
   "id": "cf0729b0",
   "metadata": {},
   "outputs": [
    {
     "data": {
      "text/plain": [
       "'DP02_0001E,DP02_0001M,DP02_0001PE,DP02_0001PM,DP02_0002E,DP02_0002M,DP02_0002PE,DP02_0002PM,DP02_0003E,DP02_0003M,DP02_0003PE,DP02_0003PM,DP02_0004E,DP02_0004M,DP02_0004PE,DP02_0004PM,DP02_0005E,DP02_0005M,DP02_0005PE,DP02_0005PM,DP02_0006E,DP02_0006M,DP02_0006PE,DP02_0006PM,DP02_0007E,DP02_0007M,DP02_0007PE,DP02_0007PM,DP02_0008E,DP02_0008M,DP02_0008PE,DP02_0008PM,DP02_0009E,DP02_0009M,DP02_0009PE,DP02_0009PM,DP02_0010E,DP02_0010M,DP02_0010PE,DP02_0010PM,DP02_0011E,DP02_0011M,DP02_0011PE,DP02_0011PM,DP02_0012E,DP02_0012M,DP02_0012PE,DP02_0012PM'"
      ]
     },
     "execution_count": 392,
     "metadata": {},
     "output_type": "execute_result"
    }
   ],
   "source": [
    "# VARIABLE NAME - MAX INDEX \n",
    "test = ','.join(variable_table[0:48]) # need to get 48 so we can reshape.\n",
    "# HOUSEHOLDS - 68\n",
    "households = ','.join(variable_table[0:68])\n",
    "# RELATIONSHIP - 96\n",
    "relationship = ','.join(variable_table[69:96])\n",
    "# MARITAL STATUS - 144\n",
    "marital_status = ','.join(variable_table[97:144])\n",
    "# FERTILITY - 172\n",
    "fertility = ','.join(variable_table[145:172])\n",
    "# GRANDPARENTS - 208\n",
    "grandparents = ','.join(variable_table[173:208])\n",
    "# SCHOOL ENROLLMENT - 232\n",
    "school_enroll = ','.join(variable_table[209:232])\n",
    "# EDUCATIONAL ATTAINMENT - 272\n",
    "# VETERAN STATUS - 280\n",
    "# DISABILITY - 312\n",
    "# RESIDENCE 1Y AGO - 348\n",
    "# POB - 376\n",
    "# US CITIZEN - 388\n",
    "# YEAR OF ENTRY - 416\n",
    "# WORLD REGION OF BIRTH - 444\n",
    "# LANGUAGE - 492\n",
    "# ANCESTRY - 604\n",
    "# COMPUTERS - 616\n",
    "test"
   ]
  },
  {
   "cell_type": "code",
   "execution_count": 393,
   "id": "daeee4cf",
   "metadata": {},
   "outputs": [],
   "source": [
    "test_all_vars_url = f\"{base_url}{test}{zcta_url}01001&key={api_key}\"\n",
    "response = requests.get(test_all_vars_url)\n",
    "# Limited to 50 Variables..."
   ]
  },
  {
   "cell_type": "code",
   "execution_count": 394,
   "id": "d97a3937",
   "metadata": {},
   "outputs": [],
   "source": [
    "labels = response.json()[0][:-1]\n",
    "values = response.json()[1:][0][:-1]\n",
    "test_dict = {labels[i]: values[i] for i in range(len(values))}"
   ]
  },
  {
   "cell_type": "code",
   "execution_count": 459,
   "id": "1b18c2e6",
   "metadata": {},
   "outputs": [],
   "source": [
    "test_df = variable_df[~variable_df[\"Name\"].str.endswith(\"A\")]\n",
    "test_df.reset_index(drop = True, inplace = True)\n",
    "test_labels = test_df[\"Label\"][0:192]\n",
    "test_dict2 = {test_labels[i]: values[i] for i in range(len(values))}\n",
    "\n",
    "test_df = pd.DataFrame(np.array(values).reshape(-1,4)).rename(columns = {0: \"Estimate\", \n",
    "                                                               1: \"Margin of Error\", \n",
    "                                                               2: \"Percent\", \n",
    "                                                               3: \"Percent Margin of Error\"})"
   ]
  },
  {
   "cell_type": "code",
   "execution_count": 460,
   "id": "46e61789",
   "metadata": {},
   "outputs": [],
   "source": [
    "test_labels = test_labels[0::4]\n",
    "new_index = [test_labels[i][test_labels[i].find(\"BY TYPE\")+8:] for i in range(0, len(test_labels), 4)]"
   ]
  },
  {
   "cell_type": "code",
   "execution_count": 464,
   "id": "0ae6379b",
   "metadata": {},
   "outputs": [
    {
     "data": {
      "text/html": [
       "<div>\n",
       "<style scoped>\n",
       "    .dataframe tbody tr th:only-of-type {\n",
       "        vertical-align: middle;\n",
       "    }\n",
       "\n",
       "    .dataframe tbody tr th {\n",
       "        vertical-align: top;\n",
       "    }\n",
       "\n",
       "    .dataframe thead th {\n",
       "        text-align: right;\n",
       "    }\n",
       "</style>\n",
       "<table border=\"1\" class=\"dataframe\">\n",
       "  <thead>\n",
       "    <tr style=\"text-align: right;\">\n",
       "      <th></th>\n",
       "      <th>Estimate</th>\n",
       "      <th>Margin of Error</th>\n",
       "      <th>Percent</th>\n",
       "      <th>Percent Margin of Error</th>\n",
       "    </tr>\n",
       "  </thead>\n",
       "  <tbody>\n",
       "    <tr>\n",
       "      <th>Total households</th>\n",
       "      <td>6791</td>\n",
       "      <td>345</td>\n",
       "      <td>6791</td>\n",
       "      <td>-888888888</td>\n",
       "    </tr>\n",
       "    <tr>\n",
       "      <th>Total households Married-couple household</th>\n",
       "      <td>2959</td>\n",
       "      <td>265</td>\n",
       "      <td>43.6</td>\n",
       "      <td>4.1</td>\n",
       "    </tr>\n",
       "    <tr>\n",
       "      <th>Total households Married-couple household With children of the householder under 18 years</th>\n",
       "      <td>874</td>\n",
       "      <td>173</td>\n",
       "      <td>12.9</td>\n",
       "      <td>2.6</td>\n",
       "    </tr>\n",
       "    <tr>\n",
       "      <th>Total households Cohabiting couple household</th>\n",
       "      <td>726</td>\n",
       "      <td>232</td>\n",
       "      <td>10.7</td>\n",
       "      <td>3.3</td>\n",
       "    </tr>\n",
       "    <tr>\n",
       "      <th>Total households Cohabiting couple household With children of the householder under 18 years</th>\n",
       "      <td>196</td>\n",
       "      <td>129</td>\n",
       "      <td>2.9</td>\n",
       "      <td>1.9</td>\n",
       "    </tr>\n",
       "    <tr>\n",
       "      <th>Total households Male householder, no spouse/partner present</th>\n",
       "      <td>1156</td>\n",
       "      <td>222</td>\n",
       "      <td>17.0</td>\n",
       "      <td>3.2</td>\n",
       "    </tr>\n",
       "    <tr>\n",
       "      <th>Total households Male householder, no spouse/partner present With children of the householder under 18 years</th>\n",
       "      <td>48</td>\n",
       "      <td>55</td>\n",
       "      <td>0.7</td>\n",
       "      <td>0.8</td>\n",
       "    </tr>\n",
       "    <tr>\n",
       "      <th>Total households Male householder, no spouse/partner present Householder living alone</th>\n",
       "      <td>843</td>\n",
       "      <td>207</td>\n",
       "      <td>12.4</td>\n",
       "      <td>3.0</td>\n",
       "    </tr>\n",
       "    <tr>\n",
       "      <th>Total households Male householder, no spouse/partner present Householder living alone 65 years and over</th>\n",
       "      <td>367</td>\n",
       "      <td>146</td>\n",
       "      <td>5.4</td>\n",
       "      <td>2.1</td>\n",
       "    </tr>\n",
       "    <tr>\n",
       "      <th>Total households Female householder, no spouse/partner present</th>\n",
       "      <td>1950</td>\n",
       "      <td>314</td>\n",
       "      <td>28.7</td>\n",
       "      <td>4.0</td>\n",
       "    </tr>\n",
       "    <tr>\n",
       "      <th>Total households Female householder, no spouse/partner present With children of the householder under 18 years</th>\n",
       "      <td>344</td>\n",
       "      <td>153</td>\n",
       "      <td>5.1</td>\n",
       "      <td>2.2</td>\n",
       "    </tr>\n",
       "    <tr>\n",
       "      <th>Total households Female householder, no spouse/partner present Householder living alone</th>\n",
       "      <td>1352</td>\n",
       "      <td>293</td>\n",
       "      <td>19.9</td>\n",
       "      <td>3.9</td>\n",
       "    </tr>\n",
       "  </tbody>\n",
       "</table>\n",
       "</div>"
      ],
      "text/plain": [
       "                                                   Estimate Margin of Error  \\\n",
       "Total households                                       6791             345   \n",
       "Total households Married-couple household              2959             265   \n",
       "Total households Married-couple household With ...      874             173   \n",
       "Total households Cohabiting couple household            726             232   \n",
       "Total households Cohabiting couple household Wi...      196             129   \n",
       "Total households Male householder, no spouse/pa...     1156             222   \n",
       "Total households Male householder, no spouse/pa...       48              55   \n",
       "Total households Male householder, no spouse/pa...      843             207   \n",
       "Total households Male householder, no spouse/pa...      367             146   \n",
       "Total households Female householder, no spouse/...     1950             314   \n",
       "Total households Female householder, no spouse/...      344             153   \n",
       "Total households Female householder, no spouse/...     1352             293   \n",
       "\n",
       "                                                   Percent  \\\n",
       "Total households                                      6791   \n",
       "Total households Married-couple household             43.6   \n",
       "Total households Married-couple household With ...    12.9   \n",
       "Total households Cohabiting couple household          10.7   \n",
       "Total households Cohabiting couple household Wi...     2.9   \n",
       "Total households Male householder, no spouse/pa...    17.0   \n",
       "Total households Male householder, no spouse/pa...     0.7   \n",
       "Total households Male householder, no spouse/pa...    12.4   \n",
       "Total households Male householder, no spouse/pa...     5.4   \n",
       "Total households Female householder, no spouse/...    28.7   \n",
       "Total households Female householder, no spouse/...     5.1   \n",
       "Total households Female householder, no spouse/...    19.9   \n",
       "\n",
       "                                                   Percent Margin of Error  \n",
       "Total households                                                -888888888  \n",
       "Total households Married-couple household                              4.1  \n",
       "Total households Married-couple household With ...                     2.6  \n",
       "Total households Cohabiting couple household                           3.3  \n",
       "Total households Cohabiting couple household Wi...                     1.9  \n",
       "Total households Male householder, no spouse/pa...                     3.2  \n",
       "Total households Male householder, no spouse/pa...                     0.8  \n",
       "Total households Male householder, no spouse/pa...                     3.0  \n",
       "Total households Male householder, no spouse/pa...                     2.1  \n",
       "Total households Female householder, no spouse/...                     4.0  \n",
       "Total households Female householder, no spouse/...                     2.2  \n",
       "Total households Female householder, no spouse/...                     3.9  "
      ]
     },
     "execution_count": 464,
     "metadata": {},
     "output_type": "execute_result"
    }
   ],
   "source": [
    "test_df.index = new_index\n",
    "test_df"
   ]
  },
  {
   "cell_type": "markdown",
   "id": "9d3c3092",
   "metadata": {},
   "source": [
    "Realized I was being stupid and could use group(DP02) ..."
   ]
  },
  {
   "cell_type": "markdown",
   "id": "3e3d9c27",
   "metadata": {},
   "source": [
    "<h1> Properly Collecting Entire CSVs Using Census Bureau API Grouping </h1>"
   ]
  },
  {
   "cell_type": "code",
   "execution_count": 579,
   "id": "77528a5f",
   "metadata": {},
   "outputs": [
    {
     "data": {
      "text/html": [
       "<div>\n",
       "<style scoped>\n",
       "    .dataframe tbody tr th:only-of-type {\n",
       "        vertical-align: middle;\n",
       "    }\n",
       "\n",
       "    .dataframe tbody tr th {\n",
       "        vertical-align: top;\n",
       "    }\n",
       "\n",
       "    .dataframe thead th {\n",
       "        text-align: right;\n",
       "    }\n",
       "</style>\n",
       "<table border=\"1\" class=\"dataframe\">\n",
       "  <thead>\n",
       "    <tr style=\"text-align: right;\">\n",
       "      <th></th>\n",
       "      <th>Estimate</th>\n",
       "      <th>Margin of Error</th>\n",
       "      <th>Percent</th>\n",
       "      <th>Percent Margin of Error</th>\n",
       "    </tr>\n",
       "    <tr>\n",
       "      <th>Label</th>\n",
       "      <th></th>\n",
       "      <th></th>\n",
       "      <th></th>\n",
       "      <th></th>\n",
       "    </tr>\n",
       "  </thead>\n",
       "  <tbody>\n",
       "    <tr>\n",
       "      <th>Estimate Households By Type Total Households</th>\n",
       "      <td>6791</td>\n",
       "      <td>345</td>\n",
       "      <td>6791</td>\n",
       "      <td>(X)</td>\n",
       "    </tr>\n",
       "    <tr>\n",
       "      <th>Estimate Households By Type Total Households Married-Couple Household</th>\n",
       "      <td>2959</td>\n",
       "      <td>265</td>\n",
       "      <td>43.6</td>\n",
       "      <td>4.1</td>\n",
       "    </tr>\n",
       "    <tr>\n",
       "      <th>Estimate Households By Type Total Households Married-Couple Household With Children Of The Householder Under 18 Years</th>\n",
       "      <td>874</td>\n",
       "      <td>173</td>\n",
       "      <td>12.9</td>\n",
       "      <td>2.6</td>\n",
       "    </tr>\n",
       "    <tr>\n",
       "      <th>Estimate Households By Type Total Households Cohabiting Couple Household</th>\n",
       "      <td>726</td>\n",
       "      <td>232</td>\n",
       "      <td>10.7</td>\n",
       "      <td>3.3</td>\n",
       "    </tr>\n",
       "    <tr>\n",
       "      <th>Estimate Households By Type Total Households Cohabiting Couple Household With Children Of The Householder Under 18 Years</th>\n",
       "      <td>196</td>\n",
       "      <td>129</td>\n",
       "      <td>2.9</td>\n",
       "      <td>1.9</td>\n",
       "    </tr>\n",
       "    <tr>\n",
       "      <th>...</th>\n",
       "      <td>...</td>\n",
       "      <td>...</td>\n",
       "      <td>...</td>\n",
       "      <td>...</td>\n",
       "    </tr>\n",
       "    <tr>\n",
       "      <th>Estimate Ancestry Total Population Welsh</th>\n",
       "      <td>52</td>\n",
       "      <td>74</td>\n",
       "      <td>0.3</td>\n",
       "      <td>0.5</td>\n",
       "    </tr>\n",
       "    <tr>\n",
       "      <th>Estimate Ancestry Total Population West Indian (Excluding Hispanic Origin Groups)</th>\n",
       "      <td>162</td>\n",
       "      <td>135</td>\n",
       "      <td>1.0</td>\n",
       "      <td>0.8</td>\n",
       "    </tr>\n",
       "    <tr>\n",
       "      <th>Estimate Computers And Internet Use Total Households</th>\n",
       "      <td>6791</td>\n",
       "      <td>345</td>\n",
       "      <td>6791</td>\n",
       "      <td>(X)</td>\n",
       "    </tr>\n",
       "    <tr>\n",
       "      <th>Estimate Computers And Internet Use Total Households With A Computer</th>\n",
       "      <td>6102</td>\n",
       "      <td>316</td>\n",
       "      <td>89.9</td>\n",
       "      <td>3.6</td>\n",
       "    </tr>\n",
       "    <tr>\n",
       "      <th>Estimate Computers And Internet Use Total Households With A Broadband Internet Subscription</th>\n",
       "      <td>5781</td>\n",
       "      <td>331</td>\n",
       "      <td>85.1</td>\n",
       "      <td>4.0</td>\n",
       "    </tr>\n",
       "  </tbody>\n",
       "</table>\n",
       "<p>154 rows × 4 columns</p>\n",
       "</div>"
      ],
      "text/plain": [
       "                                                   Estimate Margin of Error  \\\n",
       "Label                                                                         \n",
       "Estimate Households By Type Total Households           6791             345   \n",
       "Estimate Households By Type Total Households Ma...     2959             265   \n",
       "Estimate Households By Type Total Households Ma...      874             173   \n",
       "Estimate Households By Type Total Households Co...      726             232   \n",
       "Estimate Households By Type Total Households Co...      196             129   \n",
       "...                                                     ...             ...   \n",
       "Estimate Ancestry Total Population Welsh                 52              74   \n",
       "Estimate Ancestry Total Population West Indian ...      162             135   \n",
       "Estimate Computers And Internet Use Total House...     6791             345   \n",
       "Estimate Computers And Internet Use Total House...     6102             316   \n",
       "Estimate Computers And Internet Use Total House...     5781             331   \n",
       "\n",
       "                                                   Percent  \\\n",
       "Label                                                        \n",
       "Estimate Households By Type Total Households          6791   \n",
       "Estimate Households By Type Total Households Ma...    43.6   \n",
       "Estimate Households By Type Total Households Ma...    12.9   \n",
       "Estimate Households By Type Total Households Co...    10.7   \n",
       "Estimate Households By Type Total Households Co...     2.9   \n",
       "...                                                    ...   \n",
       "Estimate Ancestry Total Population Welsh               0.3   \n",
       "Estimate Ancestry Total Population West Indian ...     1.0   \n",
       "Estimate Computers And Internet Use Total House...    6791   \n",
       "Estimate Computers And Internet Use Total House...    89.9   \n",
       "Estimate Computers And Internet Use Total House...    85.1   \n",
       "\n",
       "                                                   Percent Margin of Error  \n",
       "Label                                                                       \n",
       "Estimate Households By Type Total Households                           (X)  \n",
       "Estimate Households By Type Total Households Ma...                     4.1  \n",
       "Estimate Households By Type Total Households Ma...                     2.6  \n",
       "Estimate Households By Type Total Households Co...                     3.3  \n",
       "Estimate Households By Type Total Households Co...                     1.9  \n",
       "...                                                                    ...  \n",
       "Estimate Ancestry Total Population Welsh                               0.5  \n",
       "Estimate Ancestry Total Population West Indian ...                     0.8  \n",
       "Estimate Computers And Internet Use Total House...                     (X)  \n",
       "Estimate Computers And Internet Use Total House...                     3.6  \n",
       "Estimate Computers And Internet Use Total House...                     4.0  \n",
       "\n",
       "[154 rows x 4 columns]"
      ]
     },
     "execution_count": 579,
     "metadata": {},
     "output_type": "execute_result"
    }
   ],
   "source": [
    "labels = variable_df[\"Label\"][:1232:8].reset_index(drop=True).str.title()\n",
    "test_df.index = labels\n",
    "test_df"
   ]
  },
  {
   "cell_type": "code",
   "execution_count": 594,
   "id": "52e5e135",
   "metadata": {},
   "outputs": [],
   "source": [
    "def get_df(url):\n",
    "    response = requests.get(url)\n",
    "    if response.status_code == 200:\n",
    "        data = response.json()\n",
    "        valid_data = np.array(data[1:][0][:-4:2]).reshape(-1,4)\n",
    "        test_df = pd.DataFrame(valid_data).rename(columns = {0: \"Estimate\", \n",
    "                                                             1: \"Margin of Error\", \n",
    "                                                             2: \"Percent\", \n",
    "                                                             3: \"Percent Margin of Error\"})\n",
    "\n",
    "        # Need to add proper indices. \n",
    "        test_df.index = labels\n",
    "        # Need to replace \"-888888888\", need to do for rest of Annotation values.\n",
    "        test_df = test_df.replace(\"-888888888\", \"(X)\")\n",
    "    \n",
    "        return test_df\n",
    "    else:\n",
    "        return 0"
   ]
  },
  {
   "cell_type": "code",
   "execution_count": null,
   "id": "943bd64b",
   "metadata": {},
   "outputs": [],
   "source": [
    "base_url = \"https://api.census.gov/data/2021/acs/acs5/profile?get=\"\n",
    "api_key = \"&key=672276f2a0ad053d60f8bb0848cad8a290a29427\"\n",
    "group = \"group(DP02)\"\n",
    "zcta_url = \"&for=zip%20code%20tabulation%20area:0\"\n",
    "\n",
    "ZCTA_Range = range(1001,2792) # all ZCTA values for MA.\n",
    "labels = list(variable_df[\"Label\"][:1232:8].reset_index(drop=True).str.title())\n",
    "\n",
    "for zcta in ZCTA_Range:\n",
    "    url = f\"{base_url}{group}{zcta_url}{zcta}{api_key}\"\n",
    "    new_df = get_df(url)\n",
    "    if not isinstance(new_df, pd.DataFrame):\n",
    "        continue\n",
    "    else:\n",
    "        new_df.to_csv(f\"felipe_csv/acs5_ZCTA50{zcta}.csv\")"
   ]
  },
  {
   "cell_type": "code",
   "execution_count": 589,
   "id": "248a11b5",
   "metadata": {},
   "outputs": [
    {
     "data": {
      "text/html": [
       "<div>\n",
       "<style scoped>\n",
       "    .dataframe tbody tr th:only-of-type {\n",
       "        vertical-align: middle;\n",
       "    }\n",
       "\n",
       "    .dataframe tbody tr th {\n",
       "        vertical-align: top;\n",
       "    }\n",
       "\n",
       "    .dataframe thead th {\n",
       "        text-align: right;\n",
       "    }\n",
       "</style>\n",
       "<table border=\"1\" class=\"dataframe\">\n",
       "  <thead>\n",
       "    <tr style=\"text-align: right;\">\n",
       "      <th></th>\n",
       "      <th>Estimate</th>\n",
       "      <th>Margin of Error</th>\n",
       "      <th>Percent</th>\n",
       "      <th>Percent Margin of Error</th>\n",
       "    </tr>\n",
       "    <tr>\n",
       "      <th>Label</th>\n",
       "      <th></th>\n",
       "      <th></th>\n",
       "      <th></th>\n",
       "      <th></th>\n",
       "    </tr>\n",
       "  </thead>\n",
       "  <tbody>\n",
       "    <tr>\n",
       "      <th>Estimate Households By Type Total Households</th>\n",
       "      <td>6791</td>\n",
       "      <td>345</td>\n",
       "      <td>6791</td>\n",
       "      <td>(X)</td>\n",
       "    </tr>\n",
       "    <tr>\n",
       "      <th>Estimate Households By Type Total Households Married-Couple Household</th>\n",
       "      <td>2959</td>\n",
       "      <td>265</td>\n",
       "      <td>43.6</td>\n",
       "      <td>4.1</td>\n",
       "    </tr>\n",
       "    <tr>\n",
       "      <th>Estimate Households By Type Total Households Married-Couple Household With Children Of The Householder Under 18 Years</th>\n",
       "      <td>874</td>\n",
       "      <td>173</td>\n",
       "      <td>12.9</td>\n",
       "      <td>2.6</td>\n",
       "    </tr>\n",
       "    <tr>\n",
       "      <th>Estimate Households By Type Total Households Cohabiting Couple Household</th>\n",
       "      <td>726</td>\n",
       "      <td>232</td>\n",
       "      <td>10.7</td>\n",
       "      <td>3.3</td>\n",
       "    </tr>\n",
       "    <tr>\n",
       "      <th>Estimate Households By Type Total Households Cohabiting Couple Household With Children Of The Householder Under 18 Years</th>\n",
       "      <td>196</td>\n",
       "      <td>129</td>\n",
       "      <td>2.9</td>\n",
       "      <td>1.9</td>\n",
       "    </tr>\n",
       "    <tr>\n",
       "      <th>...</th>\n",
       "      <td>...</td>\n",
       "      <td>...</td>\n",
       "      <td>...</td>\n",
       "      <td>...</td>\n",
       "    </tr>\n",
       "    <tr>\n",
       "      <th>Estimate Ancestry Total Population Welsh</th>\n",
       "      <td>52</td>\n",
       "      <td>74</td>\n",
       "      <td>0.3</td>\n",
       "      <td>0.5</td>\n",
       "    </tr>\n",
       "    <tr>\n",
       "      <th>Estimate Ancestry Total Population West Indian (Excluding Hispanic Origin Groups)</th>\n",
       "      <td>162</td>\n",
       "      <td>135</td>\n",
       "      <td>1.0</td>\n",
       "      <td>0.8</td>\n",
       "    </tr>\n",
       "    <tr>\n",
       "      <th>Estimate Computers And Internet Use Total Households</th>\n",
       "      <td>6791</td>\n",
       "      <td>345</td>\n",
       "      <td>6791</td>\n",
       "      <td>(X)</td>\n",
       "    </tr>\n",
       "    <tr>\n",
       "      <th>Estimate Computers And Internet Use Total Households With A Computer</th>\n",
       "      <td>6102</td>\n",
       "      <td>316</td>\n",
       "      <td>89.9</td>\n",
       "      <td>3.6</td>\n",
       "    </tr>\n",
       "    <tr>\n",
       "      <th>Estimate Computers And Internet Use Total Households With A Broadband Internet Subscription</th>\n",
       "      <td>5781</td>\n",
       "      <td>331</td>\n",
       "      <td>85.1</td>\n",
       "      <td>4.0</td>\n",
       "    </tr>\n",
       "  </tbody>\n",
       "</table>\n",
       "<p>154 rows × 4 columns</p>\n",
       "</div>"
      ],
      "text/plain": [
       "                                                   Estimate Margin of Error  \\\n",
       "Label                                                                         \n",
       "Estimate Households By Type Total Households           6791             345   \n",
       "Estimate Households By Type Total Households Ma...     2959             265   \n",
       "Estimate Households By Type Total Households Ma...      874             173   \n",
       "Estimate Households By Type Total Households Co...      726             232   \n",
       "Estimate Households By Type Total Households Co...      196             129   \n",
       "...                                                     ...             ...   \n",
       "Estimate Ancestry Total Population Welsh                 52              74   \n",
       "Estimate Ancestry Total Population West Indian ...      162             135   \n",
       "Estimate Computers And Internet Use Total House...     6791             345   \n",
       "Estimate Computers And Internet Use Total House...     6102             316   \n",
       "Estimate Computers And Internet Use Total House...     5781             331   \n",
       "\n",
       "                                                   Percent  \\\n",
       "Label                                                        \n",
       "Estimate Households By Type Total Households          6791   \n",
       "Estimate Households By Type Total Households Ma...    43.6   \n",
       "Estimate Households By Type Total Households Ma...    12.9   \n",
       "Estimate Households By Type Total Households Co...    10.7   \n",
       "Estimate Households By Type Total Households Co...     2.9   \n",
       "...                                                    ...   \n",
       "Estimate Ancestry Total Population Welsh               0.3   \n",
       "Estimate Ancestry Total Population West Indian ...     1.0   \n",
       "Estimate Computers And Internet Use Total House...    6791   \n",
       "Estimate Computers And Internet Use Total House...    89.9   \n",
       "Estimate Computers And Internet Use Total House...    85.1   \n",
       "\n",
       "                                                   Percent Margin of Error  \n",
       "Label                                                                       \n",
       "Estimate Households By Type Total Households                           (X)  \n",
       "Estimate Households By Type Total Households Ma...                     4.1  \n",
       "Estimate Households By Type Total Households Ma...                     2.6  \n",
       "Estimate Households By Type Total Households Co...                     3.3  \n",
       "Estimate Households By Type Total Households Co...                     1.9  \n",
       "...                                                                    ...  \n",
       "Estimate Ancestry Total Population Welsh                               0.5  \n",
       "Estimate Ancestry Total Population West Indian ...                     0.8  \n",
       "Estimate Computers And Internet Use Total House...                     (X)  \n",
       "Estimate Computers And Internet Use Total House...                     3.6  \n",
       "Estimate Computers And Internet Use Total House...                     4.0  \n",
       "\n",
       "[154 rows x 4 columns]"
      ]
     },
     "execution_count": 589,
     "metadata": {},
     "output_type": "execute_result"
    }
   ],
   "source": [
    "test_df"
   ]
  },
  {
   "cell_type": "code",
   "execution_count": 599,
   "id": "29001cea",
   "metadata": {},
   "outputs": [
    {
     "data": {
      "text/plain": [
       "0"
      ]
     },
     "execution_count": 599,
     "metadata": {},
     "output_type": "execute_result"
    }
   ],
   "source": [
    "new_df = get_df(f\"{base_url}{group}{zcta_url}1321{api_key}\")\n",
    "new_df"
   ]
  },
  {
   "cell_type": "code",
   "execution_count": 604,
   "id": "6f08d130",
   "metadata": {},
   "outputs": [
    {
     "data": {
      "text/plain": [
       "True"
      ]
     },
     "execution_count": 604,
     "metadata": {},
     "output_type": "execute_result"
    }
   ],
   "source": [
    "not isinstance(new_df, pd.DataFrame)"
   ]
  },
  {
   "cell_type": "code",
   "execution_count": null,
   "id": "f9502ff3",
   "metadata": {},
   "outputs": [],
   "source": []
  }
 ],
 "metadata": {
  "kernelspec": {
   "display_name": "Python 3 (ipykernel)",
   "language": "python",
   "name": "python3"
  },
  "language_info": {
   "codemirror_mode": {
    "name": "ipython",
    "version": 3
   },
   "file_extension": ".py",
   "mimetype": "text/x-python",
   "name": "python",
   "nbconvert_exporter": "python",
   "pygments_lexer": "ipython3",
   "version": "3.9.13"
  }
 },
 "nbformat": 4,
 "nbformat_minor": 5
}
