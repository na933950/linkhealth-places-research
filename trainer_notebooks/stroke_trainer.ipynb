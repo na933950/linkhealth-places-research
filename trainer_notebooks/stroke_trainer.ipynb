{
 "cells": [
  {
   "cell_type": "markdown",
   "id": "67354a6d-5ce3-4d80-996d-807ef5c4f964",
   "metadata": {},
   "source": [
    "<h1>Stroke Model Trainer Notebook</h1>\n",
    "<h3>Training the model based on data scraped from the US Census Bureau</h3>\n",
    "<h2><b>IMPORTANT:</b><br><span style=\"color:red;\">This product uses the Census Bureau Data API but is not endorsed or certified by the Census Bureau.</span></h2>"
   ]
  },
  {
   "cell_type": "markdown",
   "id": "453b3969-fbb0-462a-a672-e56a5c0bfae5",
   "metadata": {},
   "source": [
    "<ol>\n",
    "    <li>Split the data into training, test, and validation sets with random seed <b>123</b></li>\n",
    "    <ul>\n",
    "        <li>4 fold cross validation - 80% of the data with training = 60%, validation = 20%</li>\n",
    "        <li>Test = 20%</li>\n",
    "    </ul>\n",
    "    <li>Train the model based on broadband internet only, normalize y value, minimize MSE</li>\n",
    "    <li>Use LASSO regularization to eliminate unecessary features from the theta vector</li>\n",
    "    <li>Retrain the model with demographic features added in</li>\n",
    "    <li>Retrain the model with economic features added in</li>\n",
    "    <li>Retrain the model with social features added in</li>\n",
    "</ol>"
   ]
  },
  {
   "cell_type": "code",
   "execution_count": 1,
   "id": "298147e2-b353-4156-a787-b30c21b946d4",
   "metadata": {},
   "outputs": [],
   "source": [
    "#Imports\n",
    "#Data manipulation/training\n",
    "import pandas as pd\n",
    "import numpy as np\n",
    "from sklearn.linear_model import Lasso\n",
    "from sklearn.model_selection import train_test_split\n",
    "\n",
    "#Visualization\n",
    "import plotly.express as px\n",
    "import plotly.graph_objects as go\n",
    "import seaborn as sns\n",
    "import matplotlib.pyplot as plt"
   ]
  },
  {
   "cell_type": "code",
   "execution_count": null,
   "id": "1fc3658c-785d-457f-89a3-e26d275ac47e",
   "metadata": {},
   "outputs": [],
   "source": []
  }
 ],
 "metadata": {
  "kernelspec": {
   "display_name": "Python 3 (ipykernel)",
   "language": "python",
   "name": "python3"
  },
  "language_info": {
   "codemirror_mode": {
    "name": "ipython",
    "version": 3
   },
   "file_extension": ".py",
   "mimetype": "text/x-python",
   "name": "python",
   "nbconvert_exporter": "python",
   "pygments_lexer": "ipython3",
   "version": "3.9.12"
  }
 },
 "nbformat": 4,
 "nbformat_minor": 5
}
