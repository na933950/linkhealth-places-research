{
 "cells": [
  {
   "cell_type": "markdown",
   "id": "428d0bcf-8d4b-4735-8e14-bf7dd0ad40ec",
   "metadata": {},
   "source": [
    "<h1>Mental Health Model Trainer Notebook</h1>\n",
    "<h3>Training the model based on data scraped from the US Census Bureau</h3>\n",
    "<h2><b>IMPORTANT:</b><br><span style=\"color:red;\">This product uses the Census Bureau Data API but is not endorsed or certified by the Census Bureau.</span></h2>"
   ]
  },
  {
   "cell_type": "markdown",
   "id": "2a04eb9e-8c5f-4b58-8457-addb2cf89f7e",
   "metadata": {},
   "source": [
    "<ol>\n",
    "    <li>Split the data into training, test, and validation sets with random seed <b>123</b></li>\n",
    "    <ul>\n",
    "        <li>4 fold cross validation - 80% of the data with training = 60%, validation = 20%</li>\n",
    "        <li>Test = 20%</li>\n",
    "    </ul>\n",
    "    <li>Train the model based on broadband internet only, normalize y value, minimize MSE</li>\n",
    "    <li>Use LASSO regularization to eliminate unecessary features from the theta vector</li>\n",
    "    <li>Retrain the model with demographic features added in</li>\n",
    "    <li>Retrain the model with economic features added in</li>\n",
    "    <li>Retrain the model with social features added in</li>\n",
    "</ol>"
   ]
  },
  {
   "cell_type": "code",
   "execution_count": 1,
   "id": "63760fde-aee6-4e0f-8973-deba7f4f4354",
   "metadata": {},
   "outputs": [],
   "source": [
    "#Imports\n",
    "#Data manipulation/training\n",
    "import pandas as pd\n",
    "import numpy as np\n",
    "from sklearn.linear_model import Lasso\n",
    "from sklearn.model_selection import train_test_split\n",
    "\n",
    "#Visualization\n",
    "import plotly.express as px\n",
    "import plotly.graph_objects as go\n",
    "import seaborn as sns\n",
    "import matplotlib.pyplot as plt"
   ]
  },
  {
   "cell_type": "code",
   "execution_count": null,
   "id": "5f2c5259-7c0c-484b-ac3c-4ee746d2aef9",
   "metadata": {},
   "outputs": [],
   "source": []
  }
 ],
 "metadata": {
  "kernelspec": {
   "display_name": "Python 3 (ipykernel)",
   "language": "python",
   "name": "python3"
  },
  "language_info": {
   "codemirror_mode": {
    "name": "ipython",
    "version": 3
   },
   "file_extension": ".py",
   "mimetype": "text/x-python",
   "name": "python",
   "nbconvert_exporter": "python",
   "pygments_lexer": "ipython3",
   "version": "3.9.12"
  }
 },
 "nbformat": 4,
 "nbformat_minor": 5
}
