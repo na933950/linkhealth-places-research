{
 "cells": [
  {
   "cell_type": "markdown",
   "id": "a9990d4d-8984-44a0-a8b2-1c14669127bc",
   "metadata": {},
   "source": [
    "<h1>Exploring Health Datasets for Link-Health to Determine Association between ACP Eligibility and Health Outcomes</h1>"
   ]
  },
  {
   "cell_type": "markdown",
   "id": "09c42a15-fe49-4674-8b8f-92fa18147d64",
   "metadata": {},
   "source": [
    "<h2><b>IMPORTANT:</b><br><span style=\"color:red;\">This product uses the Census Bureau Data API but is not endorsed or certified by the Census Bureau.</span></h2>"
   ]
  },
  {
   "cell_type": "code",
   "execution_count": 1,
   "id": "9e360e90-10e4-427d-831a-e95ca198df06",
   "metadata": {},
   "outputs": [],
   "source": [
    "import pandas as pd\n",
    "import numpy as np\n",
    "import warnings\n",
    "warnings.simplefilter('ignore') #Turn off warnings"
   ]
  },
  {
   "cell_type": "markdown",
   "id": "147e96fe-da93-41cf-b3ed-c27450341bea",
   "metadata": {},
   "source": [
    "<h2>Cleaning the PLACES Dataset (DO NOT TOUCH)</h2>"
   ]
  },
  {
   "cell_type": "markdown",
   "id": "f24f827d-3a89-475e-bc60-b754f8dca15f",
   "metadata": {},
   "source": [
    "places_zcta = pd.read_csv(\"noah_csv/places_zcta.csv\")"
   ]
  },
  {
   "cell_type": "markdown",
   "id": "58f56079-994f-40f2-95b8-885deb6dff98",
   "metadata": {},
   "source": [
    "places_zcta"
   ]
  },
  {
   "cell_type": "raw",
   "id": "2b4fa17d-a35c-4de7-84e9-26487c5201ea",
   "metadata": {},
   "source": [
    "#Turn Zip Codes into Strings\n",
    "places_zcta[\"Zip Code\"] = places_zcta[\"LocationName\"].map(\n",
    "    lambda zip: str(zip) if zip > 10000 else \"0\" + str(zip)\n",
    ")\n",
    "places_zcta"
   ]
  },
  {
   "cell_type": "raw",
   "id": "495bcc5e-d6de-4b9e-810b-fe8b240f7bf5",
   "metadata": {},
   "source": [
    "#Dropping unnecessary columns and turning confidence columns into an interval\n",
    "places = places_zcta[[\"Year\", \"Zip Code\", \"Category\", \"Measure\", \"Data_Value_Type\", \"Data_Value\"]]\n",
    "places[\"Confidence Interval\"] = list(zip(\n",
    "    places_zcta[\"Low_Confidence_Limit\"], \n",
    "    places_zcta[\"High_Confidence_Limit\"]\n",
    "))\n",
    "places"
   ]
  },
  {
   "cell_type": "code",
   "execution_count": 2,
   "id": "c3fab3de-ed7c-4762-9cfe-ce83586e4584",
   "metadata": {},
   "outputs": [
    {
     "data": {
      "text/html": [
       "<div>\n",
       "<style scoped>\n",
       "    .dataframe tbody tr th:only-of-type {\n",
       "        vertical-align: middle;\n",
       "    }\n",
       "\n",
       "    .dataframe tbody tr th {\n",
       "        vertical-align: top;\n",
       "    }\n",
       "\n",
       "    .dataframe thead th {\n",
       "        text-align: right;\n",
       "    }\n",
       "</style>\n",
       "<table border=\"1\" class=\"dataframe\">\n",
       "  <thead>\n",
       "    <tr style=\"text-align: right;\">\n",
       "      <th></th>\n",
       "      <th>City</th>\n",
       "      <th>Adoption Rate</th>\n",
       "      <th>Eligible Households</th>\n",
       "      <th>Enrolled Households</th>\n",
       "      <th>Eligible Unconnected Households</th>\n",
       "    </tr>\n",
       "  </thead>\n",
       "  <tbody>\n",
       "    <tr>\n",
       "      <th>0</th>\n",
       "      <td>Abington</td>\n",
       "      <td>17%</td>\n",
       "      <td>2169</td>\n",
       "      <td>376</td>\n",
       "      <td>448</td>\n",
       "    </tr>\n",
       "    <tr>\n",
       "      <th>1</th>\n",
       "      <td>Agawam Town</td>\n",
       "      <td>20%</td>\n",
       "      <td>5414</td>\n",
       "      <td>1069</td>\n",
       "      <td>2213</td>\n",
       "    </tr>\n",
       "    <tr>\n",
       "      <th>2</th>\n",
       "      <td>Amesbury Town</td>\n",
       "      <td>26%</td>\n",
       "      <td>1821</td>\n",
       "      <td>477</td>\n",
       "      <td>382</td>\n",
       "    </tr>\n",
       "    <tr>\n",
       "      <th>3</th>\n",
       "      <td>Arlington</td>\n",
       "      <td>14%</td>\n",
       "      <td>4816</td>\n",
       "      <td>651</td>\n",
       "      <td>925</td>\n",
       "    </tr>\n",
       "    <tr>\n",
       "      <th>4</th>\n",
       "      <td>Attleboro</td>\n",
       "      <td>25%</td>\n",
       "      <td>6110</td>\n",
       "      <td>1525</td>\n",
       "      <td>1392</td>\n",
       "    </tr>\n",
       "    <tr>\n",
       "      <th>...</th>\n",
       "      <td>...</td>\n",
       "      <td>...</td>\n",
       "      <td>...</td>\n",
       "      <td>...</td>\n",
       "      <td>...</td>\n",
       "    </tr>\n",
       "    <tr>\n",
       "      <th>72</th>\n",
       "      <td>Wilmington</td>\n",
       "      <td>11%</td>\n",
       "      <td>1975</td>\n",
       "      <td>225</td>\n",
       "      <td>403</td>\n",
       "    </tr>\n",
       "    <tr>\n",
       "      <th>73</th>\n",
       "      <td>Winchester</td>\n",
       "      <td>9%</td>\n",
       "      <td>1925</td>\n",
       "      <td>182</td>\n",
       "      <td>370</td>\n",
       "    </tr>\n",
       "    <tr>\n",
       "      <th>74</th>\n",
       "      <td>Winthrop Town</td>\n",
       "      <td>11%</td>\n",
       "      <td>4462</td>\n",
       "      <td>499</td>\n",
       "      <td>1586</td>\n",
       "    </tr>\n",
       "    <tr>\n",
       "      <th>75</th>\n",
       "      <td>Woburn</td>\n",
       "      <td>17%</td>\n",
       "      <td>4790</td>\n",
       "      <td>826</td>\n",
       "      <td>1069</td>\n",
       "    </tr>\n",
       "    <tr>\n",
       "      <th>76</th>\n",
       "      <td>Worcester</td>\n",
       "      <td>60%</td>\n",
       "      <td>42567</td>\n",
       "      <td>25455</td>\n",
       "      <td>14501</td>\n",
       "    </tr>\n",
       "  </tbody>\n",
       "</table>\n",
       "<p>77 rows × 5 columns</p>\n",
       "</div>"
      ],
      "text/plain": [
       "             City Adoption Rate  Eligible Households  Enrolled Households  \\\n",
       "0        Abington           17%                 2169                  376   \n",
       "1     Agawam Town           20%                 5414                 1069   \n",
       "2   Amesbury Town           26%                 1821                  477   \n",
       "3       Arlington           14%                 4816                  651   \n",
       "4       Attleboro           25%                 6110                 1525   \n",
       "..            ...           ...                  ...                  ...   \n",
       "72     Wilmington           11%                 1975                  225   \n",
       "73     Winchester            9%                 1925                  182   \n",
       "74  Winthrop Town           11%                 4462                  499   \n",
       "75         Woburn           17%                 4790                  826   \n",
       "76      Worcester           60%                42567                25455   \n",
       "\n",
       "    Eligible Unconnected Households  \n",
       "0                               448  \n",
       "1                              2213  \n",
       "2                               382  \n",
       "3                               925  \n",
       "4                              1392  \n",
       "..                              ...  \n",
       "72                              403  \n",
       "73                              370  \n",
       "74                             1586  \n",
       "75                             1069  \n",
       "76                            14501  \n",
       "\n",
       "[77 rows x 5 columns]"
      ]
     },
     "execution_count": 2,
     "metadata": {},
     "output_type": "execute_result"
    }
   ],
   "source": [
    "ma_acp_adoption = pd.read_csv(\"noah_csv/MA_ACP_Adoption.csv\")\n",
    "ma_acp_adoption"
   ]
  },
  {
   "cell_type": "code",
   "execution_count": 15,
   "id": "a0dfad99-2850-4a95-909f-889be2c2ccde",
   "metadata": {},
   "outputs": [],
   "source": [
    "#Adding clean_zip function\n",
    "clean_zip = lambda zip: str(zip) if zip > 10000 else f\"0{zip}\""
   ]
  },
  {
   "cell_type": "markdown",
   "id": "39b6464e-9a60-4bfe-9ca7-cbebd1178b38",
   "metadata": {},
   "source": [
    "<h2>Merging Zip Codes with Towns in the ACP Dataset and PLACES Data</h2>"
   ]
  },
  {
   "cell_type": "code",
   "execution_count": 16,
   "id": "8da021c6-6baf-409c-885b-197dbfa08175",
   "metadata": {},
   "outputs": [
    {
     "data": {
      "text/html": [
       "<div>\n",
       "<style scoped>\n",
       "    .dataframe tbody tr th:only-of-type {\n",
       "        vertical-align: middle;\n",
       "    }\n",
       "\n",
       "    .dataframe tbody tr th {\n",
       "        vertical-align: top;\n",
       "    }\n",
       "\n",
       "    .dataframe thead th {\n",
       "        text-align: right;\n",
       "    }\n",
       "</style>\n",
       "<table border=\"1\" class=\"dataframe\">\n",
       "  <thead>\n",
       "    <tr style=\"text-align: right;\">\n",
       "      <th></th>\n",
       "      <th>Zip Code</th>\n",
       "      <th>City</th>\n",
       "    </tr>\n",
       "  </thead>\n",
       "  <tbody>\n",
       "    <tr>\n",
       "      <th>0</th>\n",
       "      <td>1001</td>\n",
       "      <td>Agawam</td>\n",
       "    </tr>\n",
       "    <tr>\n",
       "      <th>1</th>\n",
       "      <td>1002</td>\n",
       "      <td>Amherst</td>\n",
       "    </tr>\n",
       "    <tr>\n",
       "      <th>2</th>\n",
       "      <td>1003</td>\n",
       "      <td>Amherst</td>\n",
       "    </tr>\n",
       "    <tr>\n",
       "      <th>3</th>\n",
       "      <td>1004</td>\n",
       "      <td>Amherst</td>\n",
       "    </tr>\n",
       "    <tr>\n",
       "      <th>4</th>\n",
       "      <td>1005</td>\n",
       "      <td>Barre</td>\n",
       "    </tr>\n",
       "    <tr>\n",
       "      <th>...</th>\n",
       "      <td>...</td>\n",
       "      <td>...</td>\n",
       "    </tr>\n",
       "    <tr>\n",
       "      <th>698</th>\n",
       "      <td>2783</td>\n",
       "      <td>Taunton</td>\n",
       "    </tr>\n",
       "    <tr>\n",
       "      <th>699</th>\n",
       "      <td>2790</td>\n",
       "      <td>Westport</td>\n",
       "    </tr>\n",
       "    <tr>\n",
       "      <th>700</th>\n",
       "      <td>2791</td>\n",
       "      <td>Westport Point</td>\n",
       "    </tr>\n",
       "    <tr>\n",
       "      <th>701</th>\n",
       "      <td>5501</td>\n",
       "      <td>Andover</td>\n",
       "    </tr>\n",
       "    <tr>\n",
       "      <th>702</th>\n",
       "      <td>5544</td>\n",
       "      <td>Andover</td>\n",
       "    </tr>\n",
       "  </tbody>\n",
       "</table>\n",
       "<p>703 rows × 2 columns</p>\n",
       "</div>"
      ],
      "text/plain": [
       "     Zip Code            City\n",
       "0        1001          Agawam\n",
       "1        1002         Amherst\n",
       "2        1003         Amherst\n",
       "3        1004         Amherst\n",
       "4        1005           Barre\n",
       "..        ...             ...\n",
       "698      2783         Taunton\n",
       "699      2790        Westport\n",
       "700      2791  Westport Point\n",
       "701      5501         Andover\n",
       "702      5544         Andover\n",
       "\n",
       "[703 rows x 2 columns]"
      ]
     },
     "execution_count": 16,
     "metadata": {},
     "output_type": "execute_result"
    }
   ],
   "source": [
    "ma_zips_raw = pd.read_csv(\"noah_csv/ma_zips.csv\")\n",
    "ma_zips = ma_zips_raw[[\"Zipcode\", \"City\"]]\n",
    "ma_zips = ma_zips.rename(columns={\"Zipcode\":\"Zip Code\"})\n",
    "ma_zips"
   ]
  },
  {
   "cell_type": "code",
   "execution_count": 17,
   "id": "35ac8e47-d8d1-438c-a726-01e6af494d37",
   "metadata": {},
   "outputs": [
    {
     "data": {
      "text/html": [
       "<div>\n",
       "<style scoped>\n",
       "    .dataframe tbody tr th:only-of-type {\n",
       "        vertical-align: middle;\n",
       "    }\n",
       "\n",
       "    .dataframe tbody tr th {\n",
       "        vertical-align: top;\n",
       "    }\n",
       "\n",
       "    .dataframe thead th {\n",
       "        text-align: right;\n",
       "    }\n",
       "</style>\n",
       "<table border=\"1\" class=\"dataframe\">\n",
       "  <thead>\n",
       "    <tr style=\"text-align: right;\">\n",
       "      <th></th>\n",
       "      <th>Zip Code</th>\n",
       "      <th>City</th>\n",
       "    </tr>\n",
       "  </thead>\n",
       "  <tbody>\n",
       "    <tr>\n",
       "      <th>0</th>\n",
       "      <td>01001</td>\n",
       "      <td>Agawam</td>\n",
       "    </tr>\n",
       "    <tr>\n",
       "      <th>1</th>\n",
       "      <td>01002</td>\n",
       "      <td>Amherst</td>\n",
       "    </tr>\n",
       "    <tr>\n",
       "      <th>2</th>\n",
       "      <td>01003</td>\n",
       "      <td>Amherst</td>\n",
       "    </tr>\n",
       "    <tr>\n",
       "      <th>3</th>\n",
       "      <td>01004</td>\n",
       "      <td>Amherst</td>\n",
       "    </tr>\n",
       "    <tr>\n",
       "      <th>4</th>\n",
       "      <td>01005</td>\n",
       "      <td>Barre</td>\n",
       "    </tr>\n",
       "    <tr>\n",
       "      <th>...</th>\n",
       "      <td>...</td>\n",
       "      <td>...</td>\n",
       "    </tr>\n",
       "    <tr>\n",
       "      <th>698</th>\n",
       "      <td>02783</td>\n",
       "      <td>Taunton</td>\n",
       "    </tr>\n",
       "    <tr>\n",
       "      <th>699</th>\n",
       "      <td>02790</td>\n",
       "      <td>Westport</td>\n",
       "    </tr>\n",
       "    <tr>\n",
       "      <th>700</th>\n",
       "      <td>02791</td>\n",
       "      <td>Westport Point</td>\n",
       "    </tr>\n",
       "    <tr>\n",
       "      <th>701</th>\n",
       "      <td>05501</td>\n",
       "      <td>Andover</td>\n",
       "    </tr>\n",
       "    <tr>\n",
       "      <th>702</th>\n",
       "      <td>05544</td>\n",
       "      <td>Andover</td>\n",
       "    </tr>\n",
       "  </tbody>\n",
       "</table>\n",
       "<p>703 rows × 2 columns</p>\n",
       "</div>"
      ],
      "text/plain": [
       "    Zip Code            City\n",
       "0      01001          Agawam\n",
       "1      01002         Amherst\n",
       "2      01003         Amherst\n",
       "3      01004         Amherst\n",
       "4      01005           Barre\n",
       "..       ...             ...\n",
       "698    02783         Taunton\n",
       "699    02790        Westport\n",
       "700    02791  Westport Point\n",
       "701    05501         Andover\n",
       "702    05544         Andover\n",
       "\n",
       "[703 rows x 2 columns]"
      ]
     },
     "execution_count": 17,
     "metadata": {},
     "output_type": "execute_result"
    }
   ],
   "source": [
    "#Clean Zip Codes\n",
    "ma_zips[\"Zip Code\"] = ma_zips[\"Zip Code\"].map(clean_zip)\n",
    "ma_zips"
   ]
  },
  {
   "cell_type": "code",
   "execution_count": 18,
   "id": "22e9031d-3866-4086-a505-e6fc7505d26e",
   "metadata": {},
   "outputs": [
    {
     "data": {
      "text/html": [
       "<div>\n",
       "<style scoped>\n",
       "    .dataframe tbody tr th:only-of-type {\n",
       "        vertical-align: middle;\n",
       "    }\n",
       "\n",
       "    .dataframe tbody tr th {\n",
       "        vertical-align: top;\n",
       "    }\n",
       "\n",
       "    .dataframe thead th {\n",
       "        text-align: right;\n",
       "    }\n",
       "</style>\n",
       "<table border=\"1\" class=\"dataframe\">\n",
       "  <thead>\n",
       "    <tr style=\"text-align: right;\">\n",
       "      <th></th>\n",
       "      <th>City</th>\n",
       "      <th>Adoption Rate</th>\n",
       "      <th>Eligible Households</th>\n",
       "      <th>Enrolled Households</th>\n",
       "      <th>Eligible Unconnected Households</th>\n",
       "      <th>Zip Code</th>\n",
       "    </tr>\n",
       "  </thead>\n",
       "  <tbody>\n",
       "    <tr>\n",
       "      <th>0</th>\n",
       "      <td>Abington</td>\n",
       "      <td>17%</td>\n",
       "      <td>2169</td>\n",
       "      <td>376</td>\n",
       "      <td>448</td>\n",
       "      <td>02351</td>\n",
       "    </tr>\n",
       "    <tr>\n",
       "      <th>1</th>\n",
       "      <td>Arlington</td>\n",
       "      <td>14%</td>\n",
       "      <td>4816</td>\n",
       "      <td>651</td>\n",
       "      <td>925</td>\n",
       "      <td>02474</td>\n",
       "    </tr>\n",
       "    <tr>\n",
       "      <th>2</th>\n",
       "      <td>Arlington</td>\n",
       "      <td>14%</td>\n",
       "      <td>4816</td>\n",
       "      <td>651</td>\n",
       "      <td>925</td>\n",
       "      <td>02476</td>\n",
       "    </tr>\n",
       "    <tr>\n",
       "      <th>3</th>\n",
       "      <td>Attleboro</td>\n",
       "      <td>25%</td>\n",
       "      <td>6110</td>\n",
       "      <td>1525</td>\n",
       "      <td>1392</td>\n",
       "      <td>02703</td>\n",
       "    </tr>\n",
       "    <tr>\n",
       "      <th>4</th>\n",
       "      <td>Belmont</td>\n",
       "      <td>11%</td>\n",
       "      <td>2455</td>\n",
       "      <td>268</td>\n",
       "      <td>471</td>\n",
       "      <td>02478</td>\n",
       "    </tr>\n",
       "    <tr>\n",
       "      <th>...</th>\n",
       "      <td>...</td>\n",
       "      <td>...</td>\n",
       "      <td>...</td>\n",
       "      <td>...</td>\n",
       "      <td>...</td>\n",
       "      <td>...</td>\n",
       "    </tr>\n",
       "    <tr>\n",
       "      <th>206</th>\n",
       "      <td>Worcester</td>\n",
       "      <td>60%</td>\n",
       "      <td>42567</td>\n",
       "      <td>25455</td>\n",
       "      <td>14501</td>\n",
       "      <td>01614</td>\n",
       "    </tr>\n",
       "    <tr>\n",
       "      <th>207</th>\n",
       "      <td>Worcester</td>\n",
       "      <td>60%</td>\n",
       "      <td>42567</td>\n",
       "      <td>25455</td>\n",
       "      <td>14501</td>\n",
       "      <td>01615</td>\n",
       "    </tr>\n",
       "    <tr>\n",
       "      <th>208</th>\n",
       "      <td>Worcester</td>\n",
       "      <td>60%</td>\n",
       "      <td>42567</td>\n",
       "      <td>25455</td>\n",
       "      <td>14501</td>\n",
       "      <td>01653</td>\n",
       "    </tr>\n",
       "    <tr>\n",
       "      <th>209</th>\n",
       "      <td>Worcester</td>\n",
       "      <td>60%</td>\n",
       "      <td>42567</td>\n",
       "      <td>25455</td>\n",
       "      <td>14501</td>\n",
       "      <td>01654</td>\n",
       "    </tr>\n",
       "    <tr>\n",
       "      <th>210</th>\n",
       "      <td>Worcester</td>\n",
       "      <td>60%</td>\n",
       "      <td>42567</td>\n",
       "      <td>25455</td>\n",
       "      <td>14501</td>\n",
       "      <td>01655</td>\n",
       "    </tr>\n",
       "  </tbody>\n",
       "</table>\n",
       "<p>211 rows × 6 columns</p>\n",
       "</div>"
      ],
      "text/plain": [
       "          City Adoption Rate  Eligible Households  Enrolled Households  \\\n",
       "0     Abington           17%                 2169                  376   \n",
       "1    Arlington           14%                 4816                  651   \n",
       "2    Arlington           14%                 4816                  651   \n",
       "3    Attleboro           25%                 6110                 1525   \n",
       "4      Belmont           11%                 2455                  268   \n",
       "..         ...           ...                  ...                  ...   \n",
       "206  Worcester           60%                42567                25455   \n",
       "207  Worcester           60%                42567                25455   \n",
       "208  Worcester           60%                42567                25455   \n",
       "209  Worcester           60%                42567                25455   \n",
       "210  Worcester           60%                42567                25455   \n",
       "\n",
       "     Eligible Unconnected Households Zip Code  \n",
       "0                                448    02351  \n",
       "1                                925    02474  \n",
       "2                                925    02476  \n",
       "3                               1392    02703  \n",
       "4                                471    02478  \n",
       "..                               ...      ...  \n",
       "206                            14501    01614  \n",
       "207                            14501    01615  \n",
       "208                            14501    01653  \n",
       "209                            14501    01654  \n",
       "210                            14501    01655  \n",
       "\n",
       "[211 rows x 6 columns]"
      ]
     },
     "execution_count": 18,
     "metadata": {},
     "output_type": "execute_result"
    }
   ],
   "source": [
    "ma_acp_adoption_zc = ma_acp_adoption.merge(ma_zips, left_on=\"City\", right_on=\"City\")\n",
    "ma_acp_adoption_zc"
   ]
  },
  {
   "cell_type": "markdown",
   "id": "f1f5b82f-3d37-4949-8602-79f8c2ac3ded",
   "metadata": {},
   "source": [
    "The problem here is that we have the ACP data on a town level from the superhighway dataset, but the PLACES data is on a ZCTA level meaning we would somehow need to aggregate all the data from different zip codes in the same town in the PLACES dataset, but by population not percent so it is a weighted average\n",
    "\n",
    "My thoughts:\n",
    "- Add Town to the PLACES dataset, merging by zip code\n",
    "- Find a dataset that provides population by ZCTA and merge with PLACES dataset on Zip Code\n",
    "- Aggregate percent data in the PLACES dataset by population to create a weighted average so the PLACES and ACP datasets would have the same levels of granularity\n",
    "    - This would certainly screw up the confidence level piece so we would have to drop that\n",
    "    \n",
    "Option 2 is to not worry about population and just assume the same adoption rate per different ZCTAs in the same city (like assuming both area 01614 and 01615 separately have a 60% adoption rate) which would likely be a major oversight"
   ]
  },
  {
   "cell_type": "raw",
   "id": "7dfe9dfb-1a29-4eaa-8e73-755df41ca7f1",
   "metadata": {},
   "source": [
    "places_ma = places[places[\"Zip Code\"].isin(ma_zips[\"Zip Code\"])]\n",
    "places_ma"
   ]
  },
  {
   "cell_type": "markdown",
   "id": "a9ecd334-67b2-4662-a3c7-452525335f0e",
   "metadata": {},
   "source": [
    "<h2>Exporting MA places data separately</h2>\n",
    "<h4>The full PLACES dataset was too large to upload to GitHub so I exported a separate places_ma dataset which is now in the noah_csv folder</h4>"
   ]
  },
  {
   "cell_type": "raw",
   "id": "ec08cbf1-a40f-427e-a622-11c87dd313f8",
   "metadata": {},
   "source": [
    "places_ma.to_csv(\"places_ma\")"
   ]
  },
  {
   "cell_type": "code",
   "execution_count": 32,
   "id": "58888445-7992-4995-a148-7a535e8e0144",
   "metadata": {},
   "outputs": [
    {
     "data": {
      "text/html": [
       "<div>\n",
       "<style scoped>\n",
       "    .dataframe tbody tr th:only-of-type {\n",
       "        vertical-align: middle;\n",
       "    }\n",
       "\n",
       "    .dataframe tbody tr th {\n",
       "        vertical-align: top;\n",
       "    }\n",
       "\n",
       "    .dataframe thead th {\n",
       "        text-align: right;\n",
       "    }\n",
       "</style>\n",
       "<table border=\"1\" class=\"dataframe\">\n",
       "  <thead>\n",
       "    <tr style=\"text-align: right;\">\n",
       "      <th></th>\n",
       "      <th>Year</th>\n",
       "      <th>Zip Code</th>\n",
       "      <th>Category</th>\n",
       "      <th>Measure</th>\n",
       "      <th>Data_Value_Type</th>\n",
       "      <th>Data_Value</th>\n",
       "      <th>Confidence Interval</th>\n",
       "    </tr>\n",
       "  </thead>\n",
       "  <tbody>\n",
       "    <tr>\n",
       "      <th>0</th>\n",
       "      <td>2020</td>\n",
       "      <td>1005</td>\n",
       "      <td>Health Outcomes</td>\n",
       "      <td>Arthritis among adults aged &gt;=18 years</td>\n",
       "      <td>Crude prevalence</td>\n",
       "      <td>27.2</td>\n",
       "      <td>(25.8, 28.6)</td>\n",
       "    </tr>\n",
       "    <tr>\n",
       "      <th>1</th>\n",
       "      <td>2020</td>\n",
       "      <td>1007</td>\n",
       "      <td>Health Outcomes</td>\n",
       "      <td>Stroke among adults aged &gt;=18 years</td>\n",
       "      <td>Crude prevalence</td>\n",
       "      <td>2.1</td>\n",
       "      <td>(1.9, 2.4)</td>\n",
       "    </tr>\n",
       "    <tr>\n",
       "      <th>2</th>\n",
       "      <td>2020</td>\n",
       "      <td>1008</td>\n",
       "      <td>Health Outcomes</td>\n",
       "      <td>Obesity among adults aged &gt;=18 years</td>\n",
       "      <td>Crude prevalence</td>\n",
       "      <td>29.2</td>\n",
       "      <td>(27.9, 30.5)</td>\n",
       "    </tr>\n",
       "    <tr>\n",
       "      <th>3</th>\n",
       "      <td>2020</td>\n",
       "      <td>1009</td>\n",
       "      <td>Health Outcomes</td>\n",
       "      <td>Obesity among adults aged &gt;=18 years</td>\n",
       "      <td>Crude prevalence</td>\n",
       "      <td>29.7</td>\n",
       "      <td>(28.0, 31.5)</td>\n",
       "    </tr>\n",
       "    <tr>\n",
       "      <th>4</th>\n",
       "      <td>2020</td>\n",
       "      <td>1026</td>\n",
       "      <td>Health Outcomes</td>\n",
       "      <td>Chronic kidney disease among adults aged &gt;=18 ...</td>\n",
       "      <td>Crude prevalence</td>\n",
       "      <td>2.8</td>\n",
       "      <td>(2.6, 3.0)</td>\n",
       "    </tr>\n",
       "    <tr>\n",
       "      <th>...</th>\n",
       "      <td>...</td>\n",
       "      <td>...</td>\n",
       "      <td>...</td>\n",
       "      <td>...</td>\n",
       "      <td>...</td>\n",
       "      <td>...</td>\n",
       "      <td>...</td>\n",
       "    </tr>\n",
       "    <tr>\n",
       "      <th>15939</th>\n",
       "      <td>2020</td>\n",
       "      <td>1057</td>\n",
       "      <td>Health Risk Behaviors</td>\n",
       "      <td>Current smoking among adults aged &gt;=18 years</td>\n",
       "      <td>Crude prevalence</td>\n",
       "      <td>15.4</td>\n",
       "      <td>(13.5, 17.2)</td>\n",
       "    </tr>\n",
       "    <tr>\n",
       "      <th>15940</th>\n",
       "      <td>2020</td>\n",
       "      <td>1833</td>\n",
       "      <td>Health Outcomes</td>\n",
       "      <td>All teeth lost among adults aged &gt;=65 years</td>\n",
       "      <td>Crude prevalence</td>\n",
       "      <td>7.5</td>\n",
       "      <td>(4.8, 10.6)</td>\n",
       "    </tr>\n",
       "    <tr>\n",
       "      <th>15941</th>\n",
       "      <td>2019</td>\n",
       "      <td>1830</td>\n",
       "      <td>Prevention</td>\n",
       "      <td>Cholesterol screening among adults aged &gt;=18 y...</td>\n",
       "      <td>Crude prevalence</td>\n",
       "      <td>89.4</td>\n",
       "      <td>(88.9, 90.0)</td>\n",
       "    </tr>\n",
       "    <tr>\n",
       "      <th>15942</th>\n",
       "      <td>2020</td>\n",
       "      <td>1245</td>\n",
       "      <td>Health Status</td>\n",
       "      <td>Fair or poor self-rated health status among ad...</td>\n",
       "      <td>Crude prevalence</td>\n",
       "      <td>10.9</td>\n",
       "      <td>(8.9, 13.2)</td>\n",
       "    </tr>\n",
       "    <tr>\n",
       "      <th>15943</th>\n",
       "      <td>2020</td>\n",
       "      <td>1590</td>\n",
       "      <td>Health Risk Behaviors</td>\n",
       "      <td>Current smoking among adults aged &gt;=18 years</td>\n",
       "      <td>Crude prevalence</td>\n",
       "      <td>14.0</td>\n",
       "      <td>(11.6, 16.5)</td>\n",
       "    </tr>\n",
       "  </tbody>\n",
       "</table>\n",
       "<p>15944 rows × 7 columns</p>\n",
       "</div>"
      ],
      "text/plain": [
       "       Year  Zip Code               Category  \\\n",
       "0      2020      1005        Health Outcomes   \n",
       "1      2020      1007        Health Outcomes   \n",
       "2      2020      1008        Health Outcomes   \n",
       "3      2020      1009        Health Outcomes   \n",
       "4      2020      1026        Health Outcomes   \n",
       "...     ...       ...                    ...   \n",
       "15939  2020      1057  Health Risk Behaviors   \n",
       "15940  2020      1833        Health Outcomes   \n",
       "15941  2019      1830             Prevention   \n",
       "15942  2020      1245          Health Status   \n",
       "15943  2020      1590  Health Risk Behaviors   \n",
       "\n",
       "                                                 Measure   Data_Value_Type  \\\n",
       "0                 Arthritis among adults aged >=18 years  Crude prevalence   \n",
       "1                    Stroke among adults aged >=18 years  Crude prevalence   \n",
       "2                   Obesity among adults aged >=18 years  Crude prevalence   \n",
       "3                   Obesity among adults aged >=18 years  Crude prevalence   \n",
       "4      Chronic kidney disease among adults aged >=18 ...  Crude prevalence   \n",
       "...                                                  ...               ...   \n",
       "15939       Current smoking among adults aged >=18 years  Crude prevalence   \n",
       "15940        All teeth lost among adults aged >=65 years  Crude prevalence   \n",
       "15941  Cholesterol screening among adults aged >=18 y...  Crude prevalence   \n",
       "15942  Fair or poor self-rated health status among ad...  Crude prevalence   \n",
       "15943       Current smoking among adults aged >=18 years  Crude prevalence   \n",
       "\n",
       "       Data_Value Confidence Interval  \n",
       "0            27.2        (25.8, 28.6)  \n",
       "1             2.1          (1.9, 2.4)  \n",
       "2            29.2        (27.9, 30.5)  \n",
       "3            29.7        (28.0, 31.5)  \n",
       "4             2.8          (2.6, 3.0)  \n",
       "...           ...                 ...  \n",
       "15939        15.4        (13.5, 17.2)  \n",
       "15940         7.5         (4.8, 10.6)  \n",
       "15941        89.4        (88.9, 90.0)  \n",
       "15942        10.9         (8.9, 13.2)  \n",
       "15943        14.0        (11.6, 16.5)  \n",
       "\n",
       "[15944 rows x 7 columns]"
      ]
     },
     "execution_count": 32,
     "metadata": {},
     "output_type": "execute_result"
    }
   ],
   "source": [
    "places_ma = pd.read_csv(\"noah_csv/places_ma.csv\")\n",
    "places_ma = places_ma.drop(columns=[\"Unnamed: 0\"])\n",
    "places_ma"
   ]
  },
  {
   "cell_type": "code",
   "execution_count": 33,
   "id": "aecf714d-89c9-48fc-88d4-5004a6df43fc",
   "metadata": {},
   "outputs": [
    {
     "data": {
      "text/html": [
       "<div>\n",
       "<style scoped>\n",
       "    .dataframe tbody tr th:only-of-type {\n",
       "        vertical-align: middle;\n",
       "    }\n",
       "\n",
       "    .dataframe tbody tr th {\n",
       "        vertical-align: top;\n",
       "    }\n",
       "\n",
       "    .dataframe thead th {\n",
       "        text-align: right;\n",
       "    }\n",
       "</style>\n",
       "<table border=\"1\" class=\"dataframe\">\n",
       "  <thead>\n",
       "    <tr style=\"text-align: right;\">\n",
       "      <th></th>\n",
       "      <th>Year</th>\n",
       "      <th>Zip Code</th>\n",
       "      <th>Category</th>\n",
       "      <th>Measure</th>\n",
       "      <th>Data_Value_Type</th>\n",
       "      <th>Data_Value</th>\n",
       "      <th>Confidence Interval</th>\n",
       "    </tr>\n",
       "  </thead>\n",
       "  <tbody>\n",
       "    <tr>\n",
       "      <th>0</th>\n",
       "      <td>2020</td>\n",
       "      <td>01005</td>\n",
       "      <td>Health Outcomes</td>\n",
       "      <td>Arthritis among adults aged &gt;=18 years</td>\n",
       "      <td>Crude prevalence</td>\n",
       "      <td>27.2</td>\n",
       "      <td>(25.8, 28.6)</td>\n",
       "    </tr>\n",
       "    <tr>\n",
       "      <th>1</th>\n",
       "      <td>2020</td>\n",
       "      <td>01007</td>\n",
       "      <td>Health Outcomes</td>\n",
       "      <td>Stroke among adults aged &gt;=18 years</td>\n",
       "      <td>Crude prevalence</td>\n",
       "      <td>2.1</td>\n",
       "      <td>(1.9, 2.4)</td>\n",
       "    </tr>\n",
       "    <tr>\n",
       "      <th>2</th>\n",
       "      <td>2020</td>\n",
       "      <td>01008</td>\n",
       "      <td>Health Outcomes</td>\n",
       "      <td>Obesity among adults aged &gt;=18 years</td>\n",
       "      <td>Crude prevalence</td>\n",
       "      <td>29.2</td>\n",
       "      <td>(27.9, 30.5)</td>\n",
       "    </tr>\n",
       "    <tr>\n",
       "      <th>3</th>\n",
       "      <td>2020</td>\n",
       "      <td>01009</td>\n",
       "      <td>Health Outcomes</td>\n",
       "      <td>Obesity among adults aged &gt;=18 years</td>\n",
       "      <td>Crude prevalence</td>\n",
       "      <td>29.7</td>\n",
       "      <td>(28.0, 31.5)</td>\n",
       "    </tr>\n",
       "    <tr>\n",
       "      <th>4</th>\n",
       "      <td>2020</td>\n",
       "      <td>01026</td>\n",
       "      <td>Health Outcomes</td>\n",
       "      <td>Chronic kidney disease among adults aged &gt;=18 ...</td>\n",
       "      <td>Crude prevalence</td>\n",
       "      <td>2.8</td>\n",
       "      <td>(2.6, 3.0)</td>\n",
       "    </tr>\n",
       "    <tr>\n",
       "      <th>...</th>\n",
       "      <td>...</td>\n",
       "      <td>...</td>\n",
       "      <td>...</td>\n",
       "      <td>...</td>\n",
       "      <td>...</td>\n",
       "      <td>...</td>\n",
       "      <td>...</td>\n",
       "    </tr>\n",
       "    <tr>\n",
       "      <th>15939</th>\n",
       "      <td>2020</td>\n",
       "      <td>01057</td>\n",
       "      <td>Health Risk Behaviors</td>\n",
       "      <td>Current smoking among adults aged &gt;=18 years</td>\n",
       "      <td>Crude prevalence</td>\n",
       "      <td>15.4</td>\n",
       "      <td>(13.5, 17.2)</td>\n",
       "    </tr>\n",
       "    <tr>\n",
       "      <th>15940</th>\n",
       "      <td>2020</td>\n",
       "      <td>01833</td>\n",
       "      <td>Health Outcomes</td>\n",
       "      <td>All teeth lost among adults aged &gt;=65 years</td>\n",
       "      <td>Crude prevalence</td>\n",
       "      <td>7.5</td>\n",
       "      <td>(4.8, 10.6)</td>\n",
       "    </tr>\n",
       "    <tr>\n",
       "      <th>15941</th>\n",
       "      <td>2019</td>\n",
       "      <td>01830</td>\n",
       "      <td>Prevention</td>\n",
       "      <td>Cholesterol screening among adults aged &gt;=18 y...</td>\n",
       "      <td>Crude prevalence</td>\n",
       "      <td>89.4</td>\n",
       "      <td>(88.9, 90.0)</td>\n",
       "    </tr>\n",
       "    <tr>\n",
       "      <th>15942</th>\n",
       "      <td>2020</td>\n",
       "      <td>01245</td>\n",
       "      <td>Health Status</td>\n",
       "      <td>Fair or poor self-rated health status among ad...</td>\n",
       "      <td>Crude prevalence</td>\n",
       "      <td>10.9</td>\n",
       "      <td>(8.9, 13.2)</td>\n",
       "    </tr>\n",
       "    <tr>\n",
       "      <th>15943</th>\n",
       "      <td>2020</td>\n",
       "      <td>01590</td>\n",
       "      <td>Health Risk Behaviors</td>\n",
       "      <td>Current smoking among adults aged &gt;=18 years</td>\n",
       "      <td>Crude prevalence</td>\n",
       "      <td>14.0</td>\n",
       "      <td>(11.6, 16.5)</td>\n",
       "    </tr>\n",
       "  </tbody>\n",
       "</table>\n",
       "<p>15944 rows × 7 columns</p>\n",
       "</div>"
      ],
      "text/plain": [
       "       Year Zip Code               Category  \\\n",
       "0      2020    01005        Health Outcomes   \n",
       "1      2020    01007        Health Outcomes   \n",
       "2      2020    01008        Health Outcomes   \n",
       "3      2020    01009        Health Outcomes   \n",
       "4      2020    01026        Health Outcomes   \n",
       "...     ...      ...                    ...   \n",
       "15939  2020    01057  Health Risk Behaviors   \n",
       "15940  2020    01833        Health Outcomes   \n",
       "15941  2019    01830             Prevention   \n",
       "15942  2020    01245          Health Status   \n",
       "15943  2020    01590  Health Risk Behaviors   \n",
       "\n",
       "                                                 Measure   Data_Value_Type  \\\n",
       "0                 Arthritis among adults aged >=18 years  Crude prevalence   \n",
       "1                    Stroke among adults aged >=18 years  Crude prevalence   \n",
       "2                   Obesity among adults aged >=18 years  Crude prevalence   \n",
       "3                   Obesity among adults aged >=18 years  Crude prevalence   \n",
       "4      Chronic kidney disease among adults aged >=18 ...  Crude prevalence   \n",
       "...                                                  ...               ...   \n",
       "15939       Current smoking among adults aged >=18 years  Crude prevalence   \n",
       "15940        All teeth lost among adults aged >=65 years  Crude prevalence   \n",
       "15941  Cholesterol screening among adults aged >=18 y...  Crude prevalence   \n",
       "15942  Fair or poor self-rated health status among ad...  Crude prevalence   \n",
       "15943       Current smoking among adults aged >=18 years  Crude prevalence   \n",
       "\n",
       "       Data_Value Confidence Interval  \n",
       "0            27.2        (25.8, 28.6)  \n",
       "1             2.1          (1.9, 2.4)  \n",
       "2            29.2        (27.9, 30.5)  \n",
       "3            29.7        (28.0, 31.5)  \n",
       "4             2.8          (2.6, 3.0)  \n",
       "...           ...                 ...  \n",
       "15939        15.4        (13.5, 17.2)  \n",
       "15940         7.5         (4.8, 10.6)  \n",
       "15941        89.4        (88.9, 90.0)  \n",
       "15942        10.9         (8.9, 13.2)  \n",
       "15943        14.0        (11.6, 16.5)  \n",
       "\n",
       "[15944 rows x 7 columns]"
      ]
     },
     "execution_count": 33,
     "metadata": {},
     "output_type": "execute_result"
    }
   ],
   "source": [
    "#Fix Zip Codes\n",
    "places_ma[\"Zip Code\"] = places_ma[\"Zip Code\"].map(clean_zip)\n",
    "places_ma"
   ]
  },
  {
   "cell_type": "markdown",
   "id": "de5fdb84-db8e-4a56-b094-cf102538c053",
   "metadata": {},
   "source": [
    "<h2>Importing ZCTA to Population dataset to merge with places_ma</h2>"
   ]
  },
  {
   "cell_type": "code",
   "execution_count": 34,
   "id": "0b9fe5fd-0a8d-49ed-8af9-acb5b13dd065",
   "metadata": {},
   "outputs": [
    {
     "data": {
      "text/html": [
       "<div>\n",
       "<style scoped>\n",
       "    .dataframe tbody tr th:only-of-type {\n",
       "        vertical-align: middle;\n",
       "    }\n",
       "\n",
       "    .dataframe tbody tr th {\n",
       "        vertical-align: top;\n",
       "    }\n",
       "\n",
       "    .dataframe thead th {\n",
       "        text-align: right;\n",
       "    }\n",
       "</style>\n",
       "<table border=\"1\" class=\"dataframe\">\n",
       "  <thead>\n",
       "    <tr style=\"text-align: right;\">\n",
       "      <th></th>\n",
       "      <th>Rank</th>\n",
       "      <th>ZCTA</th>\n",
       "      <th>Population</th>\n",
       "    </tr>\n",
       "  </thead>\n",
       "  <tbody>\n",
       "    <tr>\n",
       "      <th>0</th>\n",
       "      <td>1</td>\n",
       "      <td>2301</td>\n",
       "      <td>68,571</td>\n",
       "    </tr>\n",
       "    <tr>\n",
       "      <th>1</th>\n",
       "      <td>2</td>\n",
       "      <td>2148</td>\n",
       "      <td>65,386</td>\n",
       "    </tr>\n",
       "    <tr>\n",
       "      <th>2</th>\n",
       "      <td>3</td>\n",
       "      <td>2155</td>\n",
       "      <td>62,996</td>\n",
       "    </tr>\n",
       "    <tr>\n",
       "      <th>3</th>\n",
       "      <td>4</td>\n",
       "      <td>2360</td>\n",
       "      <td>60,793</td>\n",
       "    </tr>\n",
       "    <tr>\n",
       "      <th>4</th>\n",
       "      <td>5</td>\n",
       "      <td>2151</td>\n",
       "      <td>60,736</td>\n",
       "    </tr>\n",
       "    <tr>\n",
       "      <th>...</th>\n",
       "      <td>...</td>\n",
       "      <td>...</td>\n",
       "      <td>...</td>\n",
       "    </tr>\n",
       "    <tr>\n",
       "      <th>529</th>\n",
       "      <td>530</td>\n",
       "      <td>1380</td>\n",
       "      <td>47</td>\n",
       "    </tr>\n",
       "    <tr>\n",
       "      <th>530</th>\n",
       "      <td>531</td>\n",
       "      <td>2713</td>\n",
       "      <td>34</td>\n",
       "    </tr>\n",
       "    <tr>\n",
       "      <th>531</th>\n",
       "      <td>532</td>\n",
       "      <td>1525</td>\n",
       "      <td>31</td>\n",
       "    </tr>\n",
       "    <tr>\n",
       "      <th>532</th>\n",
       "      <td>533 TIE</td>\n",
       "      <td>2553</td>\n",
       "      <td>30</td>\n",
       "    </tr>\n",
       "    <tr>\n",
       "      <th>533</th>\n",
       "      <td>533 TIE</td>\n",
       "      <td>2584</td>\n",
       "      <td>30</td>\n",
       "    </tr>\n",
       "  </tbody>\n",
       "</table>\n",
       "<p>534 rows × 3 columns</p>\n",
       "</div>"
      ],
      "text/plain": [
       "        Rank  ZCTA Population\n",
       "0          1  2301     68,571\n",
       "1          2  2148     65,386\n",
       "2          3  2155     62,996\n",
       "3          4  2360     60,793\n",
       "4          5  2151     60,736\n",
       "..       ...   ...        ...\n",
       "529      530  1380         47\n",
       "530      531  2713         34\n",
       "531      532  1525         31\n",
       "532  533 TIE  2553         30\n",
       "533  533 TIE  2584         30\n",
       "\n",
       "[534 rows x 3 columns]"
      ]
     },
     "execution_count": 34,
     "metadata": {},
     "output_type": "execute_result"
    }
   ],
   "source": [
    "zcta_to_pop_ma = pd.read_csv(\"noah_csv/zcta_to_population_ma.csv\")\n",
    "zcta_to_pop_ma"
   ]
  },
  {
   "cell_type": "code",
   "execution_count": 35,
   "id": "b96dbda9-9f88-4550-90cc-c9ddd724e6e4",
   "metadata": {},
   "outputs": [
    {
     "data": {
      "text/html": [
       "<div>\n",
       "<style scoped>\n",
       "    .dataframe tbody tr th:only-of-type {\n",
       "        vertical-align: middle;\n",
       "    }\n",
       "\n",
       "    .dataframe tbody tr th {\n",
       "        vertical-align: top;\n",
       "    }\n",
       "\n",
       "    .dataframe thead th {\n",
       "        text-align: right;\n",
       "    }\n",
       "</style>\n",
       "<table border=\"1\" class=\"dataframe\">\n",
       "  <thead>\n",
       "    <tr style=\"text-align: right;\">\n",
       "      <th></th>\n",
       "      <th>ZCTA</th>\n",
       "      <th>Population</th>\n",
       "    </tr>\n",
       "  </thead>\n",
       "  <tbody>\n",
       "    <tr>\n",
       "      <th>0</th>\n",
       "      <td>02301</td>\n",
       "      <td>68571</td>\n",
       "    </tr>\n",
       "    <tr>\n",
       "      <th>1</th>\n",
       "      <td>02148</td>\n",
       "      <td>65386</td>\n",
       "    </tr>\n",
       "    <tr>\n",
       "      <th>2</th>\n",
       "      <td>02155</td>\n",
       "      <td>62996</td>\n",
       "    </tr>\n",
       "    <tr>\n",
       "      <th>3</th>\n",
       "      <td>02360</td>\n",
       "      <td>60793</td>\n",
       "    </tr>\n",
       "    <tr>\n",
       "      <th>4</th>\n",
       "      <td>02151</td>\n",
       "      <td>60736</td>\n",
       "    </tr>\n",
       "    <tr>\n",
       "      <th>...</th>\n",
       "      <td>...</td>\n",
       "      <td>...</td>\n",
       "    </tr>\n",
       "    <tr>\n",
       "      <th>529</th>\n",
       "      <td>01380</td>\n",
       "      <td>47</td>\n",
       "    </tr>\n",
       "    <tr>\n",
       "      <th>530</th>\n",
       "      <td>02713</td>\n",
       "      <td>34</td>\n",
       "    </tr>\n",
       "    <tr>\n",
       "      <th>531</th>\n",
       "      <td>01525</td>\n",
       "      <td>31</td>\n",
       "    </tr>\n",
       "    <tr>\n",
       "      <th>532</th>\n",
       "      <td>02553</td>\n",
       "      <td>30</td>\n",
       "    </tr>\n",
       "    <tr>\n",
       "      <th>533</th>\n",
       "      <td>02584</td>\n",
       "      <td>30</td>\n",
       "    </tr>\n",
       "  </tbody>\n",
       "</table>\n",
       "<p>534 rows × 2 columns</p>\n",
       "</div>"
      ],
      "text/plain": [
       "      ZCTA  Population\n",
       "0    02301       68571\n",
       "1    02148       65386\n",
       "2    02155       62996\n",
       "3    02360       60793\n",
       "4    02151       60736\n",
       "..     ...         ...\n",
       "529  01380          47\n",
       "530  02713          34\n",
       "531  01525          31\n",
       "532  02553          30\n",
       "533  02584          30\n",
       "\n",
       "[534 rows x 2 columns]"
      ]
     },
     "execution_count": 35,
     "metadata": {},
     "output_type": "execute_result"
    }
   ],
   "source": [
    "#Clean the ZCTA and Population Columns\n",
    "zcta_to_pop_ma[\"ZCTA\"] = zcta_to_pop_ma[\"ZCTA\"].map(clean_zip)\n",
    "zcta_to_pop_ma[\"Population\"] = zcta_to_pop_ma[\"Population\"].str.replace(\",\", \"\").astype(int)\n",
    "zcta_to_pop_ma = zcta_to_pop_ma.drop(columns=[\"Rank\"])\n",
    "zcta_to_pop_ma"
   ]
  },
  {
   "cell_type": "markdown",
   "id": "809f1db5-1d77-491d-a878-ace33d38bbd2",
   "metadata": {},
   "source": [
    "<h2>Merging zcta_to_pop_ma with places_ma</h2>\n",
    "<h4>This will allow us to take a weighted average of the statistics in the places_ma dataset</h4>"
   ]
  },
  {
   "cell_type": "code",
   "execution_count": 36,
   "id": "fa46a060-f93e-46f1-9288-8aeeca5f038b",
   "metadata": {},
   "outputs": [
    {
     "data": {
      "text/html": [
       "<div>\n",
       "<style scoped>\n",
       "    .dataframe tbody tr th:only-of-type {\n",
       "        vertical-align: middle;\n",
       "    }\n",
       "\n",
       "    .dataframe tbody tr th {\n",
       "        vertical-align: top;\n",
       "    }\n",
       "\n",
       "    .dataframe thead th {\n",
       "        text-align: right;\n",
       "    }\n",
       "</style>\n",
       "<table border=\"1\" class=\"dataframe\">\n",
       "  <thead>\n",
       "    <tr style=\"text-align: right;\">\n",
       "      <th></th>\n",
       "      <th>Year</th>\n",
       "      <th>Zip Code</th>\n",
       "      <th>Category</th>\n",
       "      <th>Measure</th>\n",
       "      <th>Data_Value_Type</th>\n",
       "      <th>Data_Value</th>\n",
       "      <th>Confidence Interval</th>\n",
       "      <th>ZCTA</th>\n",
       "      <th>Population</th>\n",
       "    </tr>\n",
       "  </thead>\n",
       "  <tbody>\n",
       "    <tr>\n",
       "      <th>0</th>\n",
       "      <td>2020</td>\n",
       "      <td>01005</td>\n",
       "      <td>Health Outcomes</td>\n",
       "      <td>Arthritis among adults aged &gt;=18 years</td>\n",
       "      <td>Crude prevalence</td>\n",
       "      <td>27.2</td>\n",
       "      <td>(25.8, 28.6)</td>\n",
       "      <td>01005</td>\n",
       "      <td>4947</td>\n",
       "    </tr>\n",
       "    <tr>\n",
       "      <th>1</th>\n",
       "      <td>2020</td>\n",
       "      <td>01005</td>\n",
       "      <td>Prevention</td>\n",
       "      <td>Older adult women aged &gt;=65 years who are up t...</td>\n",
       "      <td>Crude prevalence</td>\n",
       "      <td>47.0</td>\n",
       "      <td>(41.4, 52.4)</td>\n",
       "      <td>01005</td>\n",
       "      <td>4947</td>\n",
       "    </tr>\n",
       "    <tr>\n",
       "      <th>2</th>\n",
       "      <td>2020</td>\n",
       "      <td>01005</td>\n",
       "      <td>Health Outcomes</td>\n",
       "      <td>Stroke among adults aged &gt;=18 years</td>\n",
       "      <td>Crude prevalence</td>\n",
       "      <td>2.5</td>\n",
       "      <td>(2.2, 2.9)</td>\n",
       "      <td>01005</td>\n",
       "      <td>4947</td>\n",
       "    </tr>\n",
       "    <tr>\n",
       "      <th>3</th>\n",
       "      <td>2020</td>\n",
       "      <td>01005</td>\n",
       "      <td>Prevention</td>\n",
       "      <td>Mammography use among women aged 50-74 years</td>\n",
       "      <td>Crude prevalence</td>\n",
       "      <td>82.2</td>\n",
       "      <td>(78.8, 85.5)</td>\n",
       "      <td>01005</td>\n",
       "      <td>4947</td>\n",
       "    </tr>\n",
       "    <tr>\n",
       "      <th>4</th>\n",
       "      <td>2020</td>\n",
       "      <td>01005</td>\n",
       "      <td>Health Outcomes</td>\n",
       "      <td>Current asthma among adults aged &gt;=18 years</td>\n",
       "      <td>Crude prevalence</td>\n",
       "      <td>10.6</td>\n",
       "      <td>(10.0, 11.1)</td>\n",
       "      <td>01005</td>\n",
       "      <td>4947</td>\n",
       "    </tr>\n",
       "    <tr>\n",
       "      <th>...</th>\n",
       "      <td>...</td>\n",
       "      <td>...</td>\n",
       "      <td>...</td>\n",
       "      <td>...</td>\n",
       "      <td>...</td>\n",
       "      <td>...</td>\n",
       "      <td>...</td>\n",
       "      <td>...</td>\n",
       "      <td>...</td>\n",
       "    </tr>\n",
       "    <tr>\n",
       "      <th>15854</th>\n",
       "      <td>2020</td>\n",
       "      <td>01902</td>\n",
       "      <td>Health Outcomes</td>\n",
       "      <td>Stroke among adults aged &gt;=18 years</td>\n",
       "      <td>Crude prevalence</td>\n",
       "      <td>3.2</td>\n",
       "      <td>(3.1, 3.4)</td>\n",
       "      <td>01902</td>\n",
       "      <td>51008</td>\n",
       "    </tr>\n",
       "    <tr>\n",
       "      <th>15855</th>\n",
       "      <td>2020</td>\n",
       "      <td>01902</td>\n",
       "      <td>Health Outcomes</td>\n",
       "      <td>All teeth lost among adults aged &gt;=65 years</td>\n",
       "      <td>Crude prevalence</td>\n",
       "      <td>19.7</td>\n",
       "      <td>(17.5, 22.0)</td>\n",
       "      <td>01902</td>\n",
       "      <td>51008</td>\n",
       "    </tr>\n",
       "    <tr>\n",
       "      <th>15856</th>\n",
       "      <td>2020</td>\n",
       "      <td>01902</td>\n",
       "      <td>Health Status</td>\n",
       "      <td>Mental health not good for &gt;=14 days among adu...</td>\n",
       "      <td>Crude prevalence</td>\n",
       "      <td>16.6</td>\n",
       "      <td>(16.3, 16.9)</td>\n",
       "      <td>01902</td>\n",
       "      <td>51008</td>\n",
       "    </tr>\n",
       "    <tr>\n",
       "      <th>15857</th>\n",
       "      <td>2020</td>\n",
       "      <td>01902</td>\n",
       "      <td>Health Outcomes</td>\n",
       "      <td>Arthritis among adults aged &gt;=18 years</td>\n",
       "      <td>Crude prevalence</td>\n",
       "      <td>23.9</td>\n",
       "      <td>(23.6, 24.2)</td>\n",
       "      <td>01902</td>\n",
       "      <td>51008</td>\n",
       "    </tr>\n",
       "    <tr>\n",
       "      <th>15858</th>\n",
       "      <td>2019</td>\n",
       "      <td>01902</td>\n",
       "      <td>Health Outcomes</td>\n",
       "      <td>High cholesterol among adults aged &gt;=18 years ...</td>\n",
       "      <td>Crude prevalence</td>\n",
       "      <td>27.7</td>\n",
       "      <td>(27.5, 27.9)</td>\n",
       "      <td>01902</td>\n",
       "      <td>51008</td>\n",
       "    </tr>\n",
       "  </tbody>\n",
       "</table>\n",
       "<p>15859 rows × 9 columns</p>\n",
       "</div>"
      ],
      "text/plain": [
       "       Year Zip Code         Category  \\\n",
       "0      2020    01005  Health Outcomes   \n",
       "1      2020    01005       Prevention   \n",
       "2      2020    01005  Health Outcomes   \n",
       "3      2020    01005       Prevention   \n",
       "4      2020    01005  Health Outcomes   \n",
       "...     ...      ...              ...   \n",
       "15854  2020    01902  Health Outcomes   \n",
       "15855  2020    01902  Health Outcomes   \n",
       "15856  2020    01902    Health Status   \n",
       "15857  2020    01902  Health Outcomes   \n",
       "15858  2019    01902  Health Outcomes   \n",
       "\n",
       "                                                 Measure   Data_Value_Type  \\\n",
       "0                 Arthritis among adults aged >=18 years  Crude prevalence   \n",
       "1      Older adult women aged >=65 years who are up t...  Crude prevalence   \n",
       "2                    Stroke among adults aged >=18 years  Crude prevalence   \n",
       "3           Mammography use among women aged 50-74 years  Crude prevalence   \n",
       "4            Current asthma among adults aged >=18 years  Crude prevalence   \n",
       "...                                                  ...               ...   \n",
       "15854                Stroke among adults aged >=18 years  Crude prevalence   \n",
       "15855        All teeth lost among adults aged >=65 years  Crude prevalence   \n",
       "15856  Mental health not good for >=14 days among adu...  Crude prevalence   \n",
       "15857             Arthritis among adults aged >=18 years  Crude prevalence   \n",
       "15858  High cholesterol among adults aged >=18 years ...  Crude prevalence   \n",
       "\n",
       "       Data_Value Confidence Interval   ZCTA  Population  \n",
       "0            27.2        (25.8, 28.6)  01005        4947  \n",
       "1            47.0        (41.4, 52.4)  01005        4947  \n",
       "2             2.5          (2.2, 2.9)  01005        4947  \n",
       "3            82.2        (78.8, 85.5)  01005        4947  \n",
       "4            10.6        (10.0, 11.1)  01005        4947  \n",
       "...           ...                 ...    ...         ...  \n",
       "15854         3.2          (3.1, 3.4)  01902       51008  \n",
       "15855        19.7        (17.5, 22.0)  01902       51008  \n",
       "15856        16.6        (16.3, 16.9)  01902       51008  \n",
       "15857        23.9        (23.6, 24.2)  01902       51008  \n",
       "15858        27.7        (27.5, 27.9)  01902       51008  \n",
       "\n",
       "[15859 rows x 9 columns]"
      ]
     },
     "execution_count": 36,
     "metadata": {},
     "output_type": "execute_result"
    }
   ],
   "source": [
    "places_ma_pop = places_ma.merge(zcta_to_pop_ma, left_on=\"Zip Code\", right_on=\"ZCTA\")\n",
    "places_ma_pop"
   ]
  },
  {
   "cell_type": "code",
   "execution_count": 37,
   "id": "a23117fb-9823-4421-a84d-c202b740eea5",
   "metadata": {},
   "outputs": [
    {
     "data": {
      "text/html": [
       "<div>\n",
       "<style scoped>\n",
       "    .dataframe tbody tr th:only-of-type {\n",
       "        vertical-align: middle;\n",
       "    }\n",
       "\n",
       "    .dataframe tbody tr th {\n",
       "        vertical-align: top;\n",
       "    }\n",
       "\n",
       "    .dataframe thead th {\n",
       "        text-align: right;\n",
       "    }\n",
       "</style>\n",
       "<table border=\"1\" class=\"dataframe\">\n",
       "  <thead>\n",
       "    <tr style=\"text-align: right;\">\n",
       "      <th></th>\n",
       "      <th>Year</th>\n",
       "      <th>Zip Code</th>\n",
       "      <th>Data_Value_Type</th>\n",
       "      <th>Data_Value</th>\n",
       "      <th>Confidence Interval</th>\n",
       "      <th>Population</th>\n",
       "    </tr>\n",
       "  </thead>\n",
       "  <tbody>\n",
       "    <tr>\n",
       "      <th>22</th>\n",
       "      <td>2020</td>\n",
       "      <td>01005</td>\n",
       "      <td>Crude prevalence</td>\n",
       "      <td>5.9</td>\n",
       "      <td>(4.6, 7.4)</td>\n",
       "      <td>4947</td>\n",
       "    </tr>\n",
       "    <tr>\n",
       "      <th>38</th>\n",
       "      <td>2020</td>\n",
       "      <td>01007</td>\n",
       "      <td>Crude prevalence</td>\n",
       "      <td>5.2</td>\n",
       "      <td>(4.3, 6.2)</td>\n",
       "      <td>15304</td>\n",
       "    </tr>\n",
       "    <tr>\n",
       "      <th>67</th>\n",
       "      <td>2020</td>\n",
       "      <td>01008</td>\n",
       "      <td>Crude prevalence</td>\n",
       "      <td>5.8</td>\n",
       "      <td>(4.6, 7.4)</td>\n",
       "      <td>1171</td>\n",
       "    </tr>\n",
       "    <tr>\n",
       "      <th>111</th>\n",
       "      <td>2020</td>\n",
       "      <td>01009</td>\n",
       "      <td>Crude prevalence</td>\n",
       "      <td>6.4</td>\n",
       "      <td>(5.0, 7.9)</td>\n",
       "      <td>800</td>\n",
       "    </tr>\n",
       "    <tr>\n",
       "      <th>138</th>\n",
       "      <td>2020</td>\n",
       "      <td>01026</td>\n",
       "      <td>Crude prevalence</td>\n",
       "      <td>5.4</td>\n",
       "      <td>(4.1, 6.9)</td>\n",
       "      <td>1071</td>\n",
       "    </tr>\n",
       "    <tr>\n",
       "      <th>...</th>\n",
       "      <td>...</td>\n",
       "      <td>...</td>\n",
       "      <td>...</td>\n",
       "      <td>...</td>\n",
       "      <td>...</td>\n",
       "      <td>...</td>\n",
       "    </tr>\n",
       "    <tr>\n",
       "      <th>15730</th>\n",
       "      <td>2020</td>\n",
       "      <td>01431</td>\n",
       "      <td>Crude prevalence</td>\n",
       "      <td>5.6</td>\n",
       "      <td>(4.3, 7.1)</td>\n",
       "      <td>3189</td>\n",
       "    </tr>\n",
       "    <tr>\n",
       "      <th>15750</th>\n",
       "      <td>2020</td>\n",
       "      <td>02333</td>\n",
       "      <td>Crude prevalence</td>\n",
       "      <td>5.9</td>\n",
       "      <td>(5.1, 6.7)</td>\n",
       "      <td>14403</td>\n",
       "    </tr>\n",
       "    <tr>\n",
       "      <th>15778</th>\n",
       "      <td>2020</td>\n",
       "      <td>01930</td>\n",
       "      <td>Crude prevalence</td>\n",
       "      <td>5.9</td>\n",
       "      <td>(5.4, 6.4)</td>\n",
       "      <td>29814</td>\n",
       "    </tr>\n",
       "    <tr>\n",
       "      <th>15811</th>\n",
       "      <td>2020</td>\n",
       "      <td>01801</td>\n",
       "      <td>Crude prevalence</td>\n",
       "      <td>5.8</td>\n",
       "      <td>(5.3, 6.4)</td>\n",
       "      <td>40967</td>\n",
       "    </tr>\n",
       "    <tr>\n",
       "      <th>15847</th>\n",
       "      <td>2020</td>\n",
       "      <td>01902</td>\n",
       "      <td>Crude prevalence</td>\n",
       "      <td>15.1</td>\n",
       "      <td>(14.4, 15.8)</td>\n",
       "      <td>51008</td>\n",
       "    </tr>\n",
       "  </tbody>\n",
       "</table>\n",
       "<p>529 rows × 6 columns</p>\n",
       "</div>"
      ],
      "text/plain": [
       "       Year Zip Code   Data_Value_Type  Data_Value Confidence Interval  \\\n",
       "22     2020    01005  Crude prevalence         5.9          (4.6, 7.4)   \n",
       "38     2020    01007  Crude prevalence         5.2          (4.3, 6.2)   \n",
       "67     2020    01008  Crude prevalence         5.8          (4.6, 7.4)   \n",
       "111    2020    01009  Crude prevalence         6.4          (5.0, 7.9)   \n",
       "138    2020    01026  Crude prevalence         5.4          (4.1, 6.9)   \n",
       "...     ...      ...               ...         ...                 ...   \n",
       "15730  2020    01431  Crude prevalence         5.6          (4.3, 7.1)   \n",
       "15750  2020    02333  Crude prevalence         5.9          (5.1, 6.7)   \n",
       "15778  2020    01930  Crude prevalence         5.9          (5.4, 6.4)   \n",
       "15811  2020    01801  Crude prevalence         5.8          (5.3, 6.4)   \n",
       "15847  2020    01902  Crude prevalence        15.1        (14.4, 15.8)   \n",
       "\n",
       "       Population  \n",
       "22           4947  \n",
       "38          15304  \n",
       "67           1171  \n",
       "111           800  \n",
       "138          1071  \n",
       "...           ...  \n",
       "15730        3189  \n",
       "15750       14403  \n",
       "15778       29814  \n",
       "15811       40967  \n",
       "15847       51008  \n",
       "\n",
       "[529 rows x 6 columns]"
      ]
     },
     "execution_count": 37,
     "metadata": {},
     "output_type": "execute_result"
    }
   ],
   "source": [
    "#Isolating one measure to intiallly use (Lack of Health Insurance)\n",
    "places_ma_pop_health_insurance = places_ma_pop[places_ma_pop[\"Measure\"] == 'Current lack of health insurance among adults aged 18-64 years']\n",
    "places_ma_pop_health_insurance = places_ma_pop_health_insurance.drop(columns=[\"Measure\", \"Category\", \"ZCTA\"])\n",
    "places_ma_pop_health_insurance"
   ]
  },
  {
   "cell_type": "code",
   "execution_count": 38,
   "id": "7b4300b1-4720-40f1-9cbe-26b560eaa626",
   "metadata": {},
   "outputs": [
    {
     "data": {
      "text/html": [
       "<div>\n",
       "<style scoped>\n",
       "    .dataframe tbody tr th:only-of-type {\n",
       "        vertical-align: middle;\n",
       "    }\n",
       "\n",
       "    .dataframe tbody tr th {\n",
       "        vertical-align: top;\n",
       "    }\n",
       "\n",
       "    .dataframe thead th {\n",
       "        text-align: right;\n",
       "    }\n",
       "</style>\n",
       "<table border=\"1\" class=\"dataframe\">\n",
       "  <thead>\n",
       "    <tr style=\"text-align: right;\">\n",
       "      <th></th>\n",
       "      <th>Year</th>\n",
       "      <th>Zip Code</th>\n",
       "      <th>Data_Value_Type</th>\n",
       "      <th>Data_Value</th>\n",
       "      <th>Confidence Interval</th>\n",
       "      <th>Population</th>\n",
       "      <th>City</th>\n",
       "    </tr>\n",
       "  </thead>\n",
       "  <tbody>\n",
       "    <tr>\n",
       "      <th>0</th>\n",
       "      <td>2020</td>\n",
       "      <td>01005</td>\n",
       "      <td>Crude prevalence</td>\n",
       "      <td>5.9</td>\n",
       "      <td>(4.6, 7.4)</td>\n",
       "      <td>4947</td>\n",
       "      <td>Barre</td>\n",
       "    </tr>\n",
       "    <tr>\n",
       "      <th>1</th>\n",
       "      <td>2020</td>\n",
       "      <td>01007</td>\n",
       "      <td>Crude prevalence</td>\n",
       "      <td>5.2</td>\n",
       "      <td>(4.3, 6.2)</td>\n",
       "      <td>15304</td>\n",
       "      <td>Belchertown</td>\n",
       "    </tr>\n",
       "    <tr>\n",
       "      <th>2</th>\n",
       "      <td>2020</td>\n",
       "      <td>01008</td>\n",
       "      <td>Crude prevalence</td>\n",
       "      <td>5.8</td>\n",
       "      <td>(4.6, 7.4)</td>\n",
       "      <td>1171</td>\n",
       "      <td>Blandford</td>\n",
       "    </tr>\n",
       "    <tr>\n",
       "      <th>3</th>\n",
       "      <td>2020</td>\n",
       "      <td>01009</td>\n",
       "      <td>Crude prevalence</td>\n",
       "      <td>6.4</td>\n",
       "      <td>(5.0, 7.9)</td>\n",
       "      <td>800</td>\n",
       "      <td>Bondsville</td>\n",
       "    </tr>\n",
       "    <tr>\n",
       "      <th>4</th>\n",
       "      <td>2020</td>\n",
       "      <td>01026</td>\n",
       "      <td>Crude prevalence</td>\n",
       "      <td>5.4</td>\n",
       "      <td>(4.1, 6.9)</td>\n",
       "      <td>1071</td>\n",
       "      <td>Cummington</td>\n",
       "    </tr>\n",
       "    <tr>\n",
       "      <th>...</th>\n",
       "      <td>...</td>\n",
       "      <td>...</td>\n",
       "      <td>...</td>\n",
       "      <td>...</td>\n",
       "      <td>...</td>\n",
       "      <td>...</td>\n",
       "      <td>...</td>\n",
       "    </tr>\n",
       "    <tr>\n",
       "      <th>524</th>\n",
       "      <td>2020</td>\n",
       "      <td>01431</td>\n",
       "      <td>Crude prevalence</td>\n",
       "      <td>5.6</td>\n",
       "      <td>(4.3, 7.1)</td>\n",
       "      <td>3189</td>\n",
       "      <td>Ashby</td>\n",
       "    </tr>\n",
       "    <tr>\n",
       "      <th>525</th>\n",
       "      <td>2020</td>\n",
       "      <td>02333</td>\n",
       "      <td>Crude prevalence</td>\n",
       "      <td>5.9</td>\n",
       "      <td>(5.1, 6.7)</td>\n",
       "      <td>14403</td>\n",
       "      <td>East Bridgewater</td>\n",
       "    </tr>\n",
       "    <tr>\n",
       "      <th>526</th>\n",
       "      <td>2020</td>\n",
       "      <td>01930</td>\n",
       "      <td>Crude prevalence</td>\n",
       "      <td>5.9</td>\n",
       "      <td>(5.4, 6.4)</td>\n",
       "      <td>29814</td>\n",
       "      <td>Gloucester</td>\n",
       "    </tr>\n",
       "    <tr>\n",
       "      <th>527</th>\n",
       "      <td>2020</td>\n",
       "      <td>01801</td>\n",
       "      <td>Crude prevalence</td>\n",
       "      <td>5.8</td>\n",
       "      <td>(5.3, 6.4)</td>\n",
       "      <td>40967</td>\n",
       "      <td>Woburn</td>\n",
       "    </tr>\n",
       "    <tr>\n",
       "      <th>528</th>\n",
       "      <td>2020</td>\n",
       "      <td>01902</td>\n",
       "      <td>Crude prevalence</td>\n",
       "      <td>15.1</td>\n",
       "      <td>(14.4, 15.8)</td>\n",
       "      <td>51008</td>\n",
       "      <td>Lynn</td>\n",
       "    </tr>\n",
       "  </tbody>\n",
       "</table>\n",
       "<p>529 rows × 7 columns</p>\n",
       "</div>"
      ],
      "text/plain": [
       "     Year Zip Code   Data_Value_Type  Data_Value Confidence Interval  \\\n",
       "0    2020    01005  Crude prevalence         5.9          (4.6, 7.4)   \n",
       "1    2020    01007  Crude prevalence         5.2          (4.3, 6.2)   \n",
       "2    2020    01008  Crude prevalence         5.8          (4.6, 7.4)   \n",
       "3    2020    01009  Crude prevalence         6.4          (5.0, 7.9)   \n",
       "4    2020    01026  Crude prevalence         5.4          (4.1, 6.9)   \n",
       "..    ...      ...               ...         ...                 ...   \n",
       "524  2020    01431  Crude prevalence         5.6          (4.3, 7.1)   \n",
       "525  2020    02333  Crude prevalence         5.9          (5.1, 6.7)   \n",
       "526  2020    01930  Crude prevalence         5.9          (5.4, 6.4)   \n",
       "527  2020    01801  Crude prevalence         5.8          (5.3, 6.4)   \n",
       "528  2020    01902  Crude prevalence        15.1        (14.4, 15.8)   \n",
       "\n",
       "     Population              City  \n",
       "0          4947             Barre  \n",
       "1         15304       Belchertown  \n",
       "2          1171         Blandford  \n",
       "3           800        Bondsville  \n",
       "4          1071        Cummington  \n",
       "..          ...               ...  \n",
       "524        3189             Ashby  \n",
       "525       14403  East Bridgewater  \n",
       "526       29814        Gloucester  \n",
       "527       40967            Woburn  \n",
       "528       51008              Lynn  \n",
       "\n",
       "[529 rows x 7 columns]"
      ]
     },
     "execution_count": 38,
     "metadata": {},
     "output_type": "execute_result"
    }
   ],
   "source": [
    "#Adding town by ZCTA\n",
    "places_ma_pop_health_insurance = places_ma_pop_health_insurance.merge(ma_zips, left_on=\"Zip Code\", right_on=\"Zip Code\")\n",
    "places_ma_pop_health_insurance"
   ]
  },
  {
   "cell_type": "code",
   "execution_count": 49,
   "id": "aad9d40a-beef-4ec4-b86b-d2d71c35e543",
   "metadata": {},
   "outputs": [
    {
     "data": {
      "text/html": [
       "<div>\n",
       "<style scoped>\n",
       "    .dataframe tbody tr th:only-of-type {\n",
       "        vertical-align: middle;\n",
       "    }\n",
       "\n",
       "    .dataframe tbody tr th {\n",
       "        vertical-align: top;\n",
       "    }\n",
       "\n",
       "    .dataframe thead th {\n",
       "        text-align: right;\n",
       "    }\n",
       "</style>\n",
       "<table border=\"1\" class=\"dataframe\">\n",
       "  <thead>\n",
       "    <tr style=\"text-align: right;\">\n",
       "      <th></th>\n",
       "      <th>City</th>\n",
       "      <th>Weighted Average of Lack of Health Insurance (%)</th>\n",
       "    </tr>\n",
       "  </thead>\n",
       "  <tbody>\n",
       "    <tr>\n",
       "      <th>0</th>\n",
       "      <td>Abington</td>\n",
       "      <td>5.800000</td>\n",
       "    </tr>\n",
       "    <tr>\n",
       "      <th>1</th>\n",
       "      <td>Acton</td>\n",
       "      <td>3.900000</td>\n",
       "    </tr>\n",
       "    <tr>\n",
       "      <th>2</th>\n",
       "      <td>Acushnet</td>\n",
       "      <td>6.900000</td>\n",
       "    </tr>\n",
       "    <tr>\n",
       "      <th>3</th>\n",
       "      <td>Adams</td>\n",
       "      <td>7.100000</td>\n",
       "    </tr>\n",
       "    <tr>\n",
       "      <th>4</th>\n",
       "      <td>Agawam</td>\n",
       "      <td>6.200000</td>\n",
       "    </tr>\n",
       "    <tr>\n",
       "      <th>...</th>\n",
       "      <td>...</td>\n",
       "      <td>...</td>\n",
       "    </tr>\n",
       "    <tr>\n",
       "      <th>453</th>\n",
       "      <td>Worcester</td>\n",
       "      <td>10.344102</td>\n",
       "    </tr>\n",
       "    <tr>\n",
       "      <th>454</th>\n",
       "      <td>Woronoco</td>\n",
       "      <td>6.800000</td>\n",
       "    </tr>\n",
       "    <tr>\n",
       "      <th>455</th>\n",
       "      <td>Worthington</td>\n",
       "      <td>5.300000</td>\n",
       "    </tr>\n",
       "    <tr>\n",
       "      <th>456</th>\n",
       "      <td>Wrentham</td>\n",
       "      <td>4.400000</td>\n",
       "    </tr>\n",
       "    <tr>\n",
       "      <th>457</th>\n",
       "      <td>Yarmouth Port</td>\n",
       "      <td>4.900000</td>\n",
       "    </tr>\n",
       "  </tbody>\n",
       "</table>\n",
       "<p>458 rows × 2 columns</p>\n",
       "</div>"
      ],
      "text/plain": [
       "              City  Weighted Average of Lack of Health Insurance (%)\n",
       "0         Abington                                          5.800000\n",
       "1            Acton                                          3.900000\n",
       "2         Acushnet                                          6.900000\n",
       "3            Adams                                          7.100000\n",
       "4           Agawam                                          6.200000\n",
       "..             ...                                               ...\n",
       "453      Worcester                                         10.344102\n",
       "454       Woronoco                                          6.800000\n",
       "455    Worthington                                          5.300000\n",
       "456       Wrentham                                          4.400000\n",
       "457  Yarmouth Port                                          4.900000\n",
       "\n",
       "[458 rows x 2 columns]"
      ]
     },
     "execution_count": 49,
     "metadata": {},
     "output_type": "execute_result"
    }
   ],
   "source": [
    "# Calculate the weighted average function\n",
    "def weighted_average(group):\n",
    "    value_sum = (group['Data_Value'] * group['Population']).sum()\n",
    "    population_sum = group['Population'].sum()\n",
    "    return value_sum / population_sum\n",
    "\n",
    "# Apply the weighted average calculation to each town\n",
    "aggregated_health_insurance = places_ma_pop_health_insurance.groupby('City').apply(weighted_average).reset_index()\n",
    "aggregated_health_insurance.columns = [\"City\", \"Weighted Average of Lack of Health Insurance (%)\"]\n",
    "aggregated_health_insurance"
   ]
  },
  {
   "cell_type": "code",
   "execution_count": 58,
   "id": "79ddcd6e-ed02-4c3c-a40e-de578f156078",
   "metadata": {},
   "outputs": [],
   "source": [
    "\"\"\"Test the weighted average worked correctly\"\"\"\n",
    "def test_weighted_average():\n",
    "    worcester = places_ma_pop_health_insurance[places_ma_pop_health_insurance[\"City\"] == \"Worcester\"]\n",
    "    total_pop = sum(worcester[\"Population\"])\n",
    "    raw_nums = worcester[\"Population\"] * (worcester[\"Data_Value\"]/100.0)\n",
    "    weighted_avg = 100.0 * (sum(raw_nums)/total_pop)\n",
    "    worcester_stat = aggregated_health_insurance[aggregated_health_insurance[\"City\"] == \"Worcester\"][\"Weighted Average of Lack of Health Insurance (%)\"].values[0]\n",
    "    assert weighted_avg - worcester_stat < 0.001\n",
    "\n",
    "test_weighted_average()"
   ]
  },
  {
   "cell_type": "code",
   "execution_count": 59,
   "id": "353b33b7-44c8-4f22-b2c5-020a2415111d",
   "metadata": {},
   "outputs": [
    {
     "data": {
      "text/html": [
       "<div>\n",
       "<style scoped>\n",
       "    .dataframe tbody tr th:only-of-type {\n",
       "        vertical-align: middle;\n",
       "    }\n",
       "\n",
       "    .dataframe tbody tr th {\n",
       "        vertical-align: top;\n",
       "    }\n",
       "\n",
       "    .dataframe thead th {\n",
       "        text-align: right;\n",
       "    }\n",
       "</style>\n",
       "<table border=\"1\" class=\"dataframe\">\n",
       "  <thead>\n",
       "    <tr style=\"text-align: right;\">\n",
       "      <th></th>\n",
       "      <th>City</th>\n",
       "      <th>Adoption Rate</th>\n",
       "      <th>Eligible Households</th>\n",
       "      <th>Enrolled Households</th>\n",
       "      <th>Eligible Unconnected Households</th>\n",
       "    </tr>\n",
       "  </thead>\n",
       "  <tbody>\n",
       "    <tr>\n",
       "      <th>0</th>\n",
       "      <td>Abington</td>\n",
       "      <td>17%</td>\n",
       "      <td>2169</td>\n",
       "      <td>376</td>\n",
       "      <td>448</td>\n",
       "    </tr>\n",
       "    <tr>\n",
       "      <th>1</th>\n",
       "      <td>Agawam Town</td>\n",
       "      <td>20%</td>\n",
       "      <td>5414</td>\n",
       "      <td>1069</td>\n",
       "      <td>2213</td>\n",
       "    </tr>\n",
       "    <tr>\n",
       "      <th>2</th>\n",
       "      <td>Amesbury Town</td>\n",
       "      <td>26%</td>\n",
       "      <td>1821</td>\n",
       "      <td>477</td>\n",
       "      <td>382</td>\n",
       "    </tr>\n",
       "    <tr>\n",
       "      <th>3</th>\n",
       "      <td>Arlington</td>\n",
       "      <td>14%</td>\n",
       "      <td>4816</td>\n",
       "      <td>651</td>\n",
       "      <td>925</td>\n",
       "    </tr>\n",
       "    <tr>\n",
       "      <th>4</th>\n",
       "      <td>Attleboro</td>\n",
       "      <td>25%</td>\n",
       "      <td>6110</td>\n",
       "      <td>1525</td>\n",
       "      <td>1392</td>\n",
       "    </tr>\n",
       "    <tr>\n",
       "      <th>...</th>\n",
       "      <td>...</td>\n",
       "      <td>...</td>\n",
       "      <td>...</td>\n",
       "      <td>...</td>\n",
       "      <td>...</td>\n",
       "    </tr>\n",
       "    <tr>\n",
       "      <th>72</th>\n",
       "      <td>Wilmington</td>\n",
       "      <td>11%</td>\n",
       "      <td>1975</td>\n",
       "      <td>225</td>\n",
       "      <td>403</td>\n",
       "    </tr>\n",
       "    <tr>\n",
       "      <th>73</th>\n",
       "      <td>Winchester</td>\n",
       "      <td>9%</td>\n",
       "      <td>1925</td>\n",
       "      <td>182</td>\n",
       "      <td>370</td>\n",
       "    </tr>\n",
       "    <tr>\n",
       "      <th>74</th>\n",
       "      <td>Winthrop Town</td>\n",
       "      <td>11%</td>\n",
       "      <td>4462</td>\n",
       "      <td>499</td>\n",
       "      <td>1586</td>\n",
       "    </tr>\n",
       "    <tr>\n",
       "      <th>75</th>\n",
       "      <td>Woburn</td>\n",
       "      <td>17%</td>\n",
       "      <td>4790</td>\n",
       "      <td>826</td>\n",
       "      <td>1069</td>\n",
       "    </tr>\n",
       "    <tr>\n",
       "      <th>76</th>\n",
       "      <td>Worcester</td>\n",
       "      <td>60%</td>\n",
       "      <td>42567</td>\n",
       "      <td>25455</td>\n",
       "      <td>14501</td>\n",
       "    </tr>\n",
       "  </tbody>\n",
       "</table>\n",
       "<p>77 rows × 5 columns</p>\n",
       "</div>"
      ],
      "text/plain": [
       "             City Adoption Rate  Eligible Households  Enrolled Households  \\\n",
       "0        Abington           17%                 2169                  376   \n",
       "1     Agawam Town           20%                 5414                 1069   \n",
       "2   Amesbury Town           26%                 1821                  477   \n",
       "3       Arlington           14%                 4816                  651   \n",
       "4       Attleboro           25%                 6110                 1525   \n",
       "..            ...           ...                  ...                  ...   \n",
       "72     Wilmington           11%                 1975                  225   \n",
       "73     Winchester            9%                 1925                  182   \n",
       "74  Winthrop Town           11%                 4462                  499   \n",
       "75         Woburn           17%                 4790                  826   \n",
       "76      Worcester           60%                42567                25455   \n",
       "\n",
       "    Eligible Unconnected Households  \n",
       "0                               448  \n",
       "1                              2213  \n",
       "2                               382  \n",
       "3                               925  \n",
       "4                              1392  \n",
       "..                              ...  \n",
       "72                              403  \n",
       "73                              370  \n",
       "74                             1586  \n",
       "75                             1069  \n",
       "76                            14501  \n",
       "\n",
       "[77 rows x 5 columns]"
      ]
     },
     "execution_count": 59,
     "metadata": {},
     "output_type": "execute_result"
    }
   ],
   "source": [
    "ma_acp_adoption"
   ]
  },
  {
   "cell_type": "code",
   "execution_count": 60,
   "id": "2a44caf7-d940-49cb-b5ae-d03cb94cf51b",
   "metadata": {},
   "outputs": [
    {
     "data": {
      "text/html": [
       "<div>\n",
       "<style scoped>\n",
       "    .dataframe tbody tr th:only-of-type {\n",
       "        vertical-align: middle;\n",
       "    }\n",
       "\n",
       "    .dataframe tbody tr th {\n",
       "        vertical-align: top;\n",
       "    }\n",
       "\n",
       "    .dataframe thead th {\n",
       "        text-align: right;\n",
       "    }\n",
       "</style>\n",
       "<table border=\"1\" class=\"dataframe\">\n",
       "  <thead>\n",
       "    <tr style=\"text-align: right;\">\n",
       "      <th></th>\n",
       "      <th>City</th>\n",
       "      <th>Adoption Rate</th>\n",
       "      <th>Eligible Households</th>\n",
       "      <th>Enrolled Households</th>\n",
       "      <th>Eligible Unconnected Households</th>\n",
       "    </tr>\n",
       "  </thead>\n",
       "  <tbody>\n",
       "    <tr>\n",
       "      <th>0</th>\n",
       "      <td>Abington</td>\n",
       "      <td>17</td>\n",
       "      <td>2169</td>\n",
       "      <td>376</td>\n",
       "      <td>448</td>\n",
       "    </tr>\n",
       "    <tr>\n",
       "      <th>1</th>\n",
       "      <td>Agawam Town</td>\n",
       "      <td>20</td>\n",
       "      <td>5414</td>\n",
       "      <td>1069</td>\n",
       "      <td>2213</td>\n",
       "    </tr>\n",
       "    <tr>\n",
       "      <th>2</th>\n",
       "      <td>Amesbury Town</td>\n",
       "      <td>26</td>\n",
       "      <td>1821</td>\n",
       "      <td>477</td>\n",
       "      <td>382</td>\n",
       "    </tr>\n",
       "    <tr>\n",
       "      <th>3</th>\n",
       "      <td>Arlington</td>\n",
       "      <td>14</td>\n",
       "      <td>4816</td>\n",
       "      <td>651</td>\n",
       "      <td>925</td>\n",
       "    </tr>\n",
       "    <tr>\n",
       "      <th>4</th>\n",
       "      <td>Attleboro</td>\n",
       "      <td>25</td>\n",
       "      <td>6110</td>\n",
       "      <td>1525</td>\n",
       "      <td>1392</td>\n",
       "    </tr>\n",
       "    <tr>\n",
       "      <th>...</th>\n",
       "      <td>...</td>\n",
       "      <td>...</td>\n",
       "      <td>...</td>\n",
       "      <td>...</td>\n",
       "      <td>...</td>\n",
       "    </tr>\n",
       "    <tr>\n",
       "      <th>72</th>\n",
       "      <td>Wilmington</td>\n",
       "      <td>11</td>\n",
       "      <td>1975</td>\n",
       "      <td>225</td>\n",
       "      <td>403</td>\n",
       "    </tr>\n",
       "    <tr>\n",
       "      <th>73</th>\n",
       "      <td>Winchester</td>\n",
       "      <td>9</td>\n",
       "      <td>1925</td>\n",
       "      <td>182</td>\n",
       "      <td>370</td>\n",
       "    </tr>\n",
       "    <tr>\n",
       "      <th>74</th>\n",
       "      <td>Winthrop Town</td>\n",
       "      <td>11</td>\n",
       "      <td>4462</td>\n",
       "      <td>499</td>\n",
       "      <td>1586</td>\n",
       "    </tr>\n",
       "    <tr>\n",
       "      <th>75</th>\n",
       "      <td>Woburn</td>\n",
       "      <td>17</td>\n",
       "      <td>4790</td>\n",
       "      <td>826</td>\n",
       "      <td>1069</td>\n",
       "    </tr>\n",
       "    <tr>\n",
       "      <th>76</th>\n",
       "      <td>Worcester</td>\n",
       "      <td>60</td>\n",
       "      <td>42567</td>\n",
       "      <td>25455</td>\n",
       "      <td>14501</td>\n",
       "    </tr>\n",
       "  </tbody>\n",
       "</table>\n",
       "<p>77 rows × 5 columns</p>\n",
       "</div>"
      ],
      "text/plain": [
       "             City  Adoption Rate  Eligible Households  Enrolled Households  \\\n",
       "0        Abington             17                 2169                  376   \n",
       "1     Agawam Town             20                 5414                 1069   \n",
       "2   Amesbury Town             26                 1821                  477   \n",
       "3       Arlington             14                 4816                  651   \n",
       "4       Attleboro             25                 6110                 1525   \n",
       "..            ...            ...                  ...                  ...   \n",
       "72     Wilmington             11                 1975                  225   \n",
       "73     Winchester              9                 1925                  182   \n",
       "74  Winthrop Town             11                 4462                  499   \n",
       "75         Woburn             17                 4790                  826   \n",
       "76      Worcester             60                42567                25455   \n",
       "\n",
       "    Eligible Unconnected Households  \n",
       "0                               448  \n",
       "1                              2213  \n",
       "2                               382  \n",
       "3                               925  \n",
       "4                              1392  \n",
       "..                              ...  \n",
       "72                              403  \n",
       "73                              370  \n",
       "74                             1586  \n",
       "75                             1069  \n",
       "76                            14501  \n",
       "\n",
       "[77 rows x 5 columns]"
      ]
     },
     "execution_count": 60,
     "metadata": {},
     "output_type": "execute_result"
    }
   ],
   "source": [
    "#Clean adoption rate column of ma_acp_adoption\n",
    "ma_acp_adoption[\"Adoption Rate\"] = ma_acp_adoption[\"Adoption Rate\"].map(\n",
    "    lambda p: int(p[0:-1])\n",
    ")\n",
    "ma_acp_adoption"
   ]
  },
  {
   "cell_type": "code",
   "execution_count": 65,
   "id": "76ed90dd-ae87-4c27-88bd-c0c5c04de1fd",
   "metadata": {},
   "outputs": [
    {
     "data": {
      "text/html": [
       "<div>\n",
       "<style scoped>\n",
       "    .dataframe tbody tr th:only-of-type {\n",
       "        vertical-align: middle;\n",
       "    }\n",
       "\n",
       "    .dataframe tbody tr th {\n",
       "        vertical-align: top;\n",
       "    }\n",
       "\n",
       "    .dataframe thead th {\n",
       "        text-align: right;\n",
       "    }\n",
       "</style>\n",
       "<table border=\"1\" class=\"dataframe\">\n",
       "  <thead>\n",
       "    <tr style=\"text-align: right;\">\n",
       "      <th></th>\n",
       "      <th>City</th>\n",
       "      <th>Adoption Rate (%)</th>\n",
       "      <th>Eligible Households</th>\n",
       "      <th>Enrolled Households</th>\n",
       "      <th>Eligible Unconnected Households</th>\n",
       "    </tr>\n",
       "  </thead>\n",
       "  <tbody>\n",
       "    <tr>\n",
       "      <th>0</th>\n",
       "      <td>Abington</td>\n",
       "      <td>17</td>\n",
       "      <td>2169</td>\n",
       "      <td>376</td>\n",
       "      <td>448</td>\n",
       "    </tr>\n",
       "    <tr>\n",
       "      <th>1</th>\n",
       "      <td>Agawam</td>\n",
       "      <td>20</td>\n",
       "      <td>5414</td>\n",
       "      <td>1069</td>\n",
       "      <td>2213</td>\n",
       "    </tr>\n",
       "    <tr>\n",
       "      <th>2</th>\n",
       "      <td>Amesbury</td>\n",
       "      <td>26</td>\n",
       "      <td>1821</td>\n",
       "      <td>477</td>\n",
       "      <td>382</td>\n",
       "    </tr>\n",
       "    <tr>\n",
       "      <th>3</th>\n",
       "      <td>Arlington</td>\n",
       "      <td>14</td>\n",
       "      <td>4816</td>\n",
       "      <td>651</td>\n",
       "      <td>925</td>\n",
       "    </tr>\n",
       "    <tr>\n",
       "      <th>4</th>\n",
       "      <td>Attleboro</td>\n",
       "      <td>25</td>\n",
       "      <td>6110</td>\n",
       "      <td>1525</td>\n",
       "      <td>1392</td>\n",
       "    </tr>\n",
       "    <tr>\n",
       "      <th>...</th>\n",
       "      <td>...</td>\n",
       "      <td>...</td>\n",
       "      <td>...</td>\n",
       "      <td>...</td>\n",
       "      <td>...</td>\n",
       "    </tr>\n",
       "    <tr>\n",
       "      <th>72</th>\n",
       "      <td>Wilmington</td>\n",
       "      <td>11</td>\n",
       "      <td>1975</td>\n",
       "      <td>225</td>\n",
       "      <td>403</td>\n",
       "    </tr>\n",
       "    <tr>\n",
       "      <th>73</th>\n",
       "      <td>Winchester</td>\n",
       "      <td>9</td>\n",
       "      <td>1925</td>\n",
       "      <td>182</td>\n",
       "      <td>370</td>\n",
       "    </tr>\n",
       "    <tr>\n",
       "      <th>74</th>\n",
       "      <td>Winthrop</td>\n",
       "      <td>11</td>\n",
       "      <td>4462</td>\n",
       "      <td>499</td>\n",
       "      <td>1586</td>\n",
       "    </tr>\n",
       "    <tr>\n",
       "      <th>75</th>\n",
       "      <td>Woburn</td>\n",
       "      <td>17</td>\n",
       "      <td>4790</td>\n",
       "      <td>826</td>\n",
       "      <td>1069</td>\n",
       "    </tr>\n",
       "    <tr>\n",
       "      <th>76</th>\n",
       "      <td>Worcester</td>\n",
       "      <td>60</td>\n",
       "      <td>42567</td>\n",
       "      <td>25455</td>\n",
       "      <td>14501</td>\n",
       "    </tr>\n",
       "  </tbody>\n",
       "</table>\n",
       "<p>77 rows × 5 columns</p>\n",
       "</div>"
      ],
      "text/plain": [
       "          City  Adoption Rate (%)  Eligible Households  Enrolled Households  \\\n",
       "0     Abington                 17                 2169                  376   \n",
       "1       Agawam                 20                 5414                 1069   \n",
       "2     Amesbury                 26                 1821                  477   \n",
       "3    Arlington                 14                 4816                  651   \n",
       "4    Attleboro                 25                 6110                 1525   \n",
       "..         ...                ...                  ...                  ...   \n",
       "72  Wilmington                 11                 1975                  225   \n",
       "73  Winchester                  9                 1925                  182   \n",
       "74    Winthrop                 11                 4462                  499   \n",
       "75      Woburn                 17                 4790                  826   \n",
       "76   Worcester                 60                42567                25455   \n",
       "\n",
       "    Eligible Unconnected Households  \n",
       "0                               448  \n",
       "1                              2213  \n",
       "2                               382  \n",
       "3                               925  \n",
       "4                              1392  \n",
       "..                              ...  \n",
       "72                              403  \n",
       "73                              370  \n",
       "74                             1586  \n",
       "75                             1069  \n",
       "76                            14501  \n",
       "\n",
       "[77 rows x 5 columns]"
      ]
     },
     "execution_count": 65,
     "metadata": {},
     "output_type": "execute_result"
    }
   ],
   "source": [
    "#Get rid of the word \"Town\" in City column\n",
    "ma_acp_adoption[\"City\"] = ma_acp_adoption['City'].str.replace(' Town$', '')\n",
    "ma_acp_adoption"
   ]
  },
  {
   "cell_type": "code",
   "execution_count": 62,
   "id": "5c5639aa-65c3-42f8-8e88-26b872b9c163",
   "metadata": {},
   "outputs": [
    {
     "data": {
      "text/html": [
       "<div>\n",
       "<style scoped>\n",
       "    .dataframe tbody tr th:only-of-type {\n",
       "        vertical-align: middle;\n",
       "    }\n",
       "\n",
       "    .dataframe tbody tr th {\n",
       "        vertical-align: top;\n",
       "    }\n",
       "\n",
       "    .dataframe thead th {\n",
       "        text-align: right;\n",
       "    }\n",
       "</style>\n",
       "<table border=\"1\" class=\"dataframe\">\n",
       "  <thead>\n",
       "    <tr style=\"text-align: right;\">\n",
       "      <th></th>\n",
       "      <th>City</th>\n",
       "      <th>Adoption Rate (%)</th>\n",
       "      <th>Eligible Households</th>\n",
       "      <th>Enrolled Households</th>\n",
       "      <th>Eligible Unconnected Households</th>\n",
       "    </tr>\n",
       "  </thead>\n",
       "  <tbody>\n",
       "    <tr>\n",
       "      <th>0</th>\n",
       "      <td>Abington</td>\n",
       "      <td>17</td>\n",
       "      <td>2169</td>\n",
       "      <td>376</td>\n",
       "      <td>448</td>\n",
       "    </tr>\n",
       "    <tr>\n",
       "      <th>1</th>\n",
       "      <td>Agawam Town</td>\n",
       "      <td>20</td>\n",
       "      <td>5414</td>\n",
       "      <td>1069</td>\n",
       "      <td>2213</td>\n",
       "    </tr>\n",
       "    <tr>\n",
       "      <th>2</th>\n",
       "      <td>Amesbury Town</td>\n",
       "      <td>26</td>\n",
       "      <td>1821</td>\n",
       "      <td>477</td>\n",
       "      <td>382</td>\n",
       "    </tr>\n",
       "    <tr>\n",
       "      <th>3</th>\n",
       "      <td>Arlington</td>\n",
       "      <td>14</td>\n",
       "      <td>4816</td>\n",
       "      <td>651</td>\n",
       "      <td>925</td>\n",
       "    </tr>\n",
       "    <tr>\n",
       "      <th>4</th>\n",
       "      <td>Attleboro</td>\n",
       "      <td>25</td>\n",
       "      <td>6110</td>\n",
       "      <td>1525</td>\n",
       "      <td>1392</td>\n",
       "    </tr>\n",
       "    <tr>\n",
       "      <th>...</th>\n",
       "      <td>...</td>\n",
       "      <td>...</td>\n",
       "      <td>...</td>\n",
       "      <td>...</td>\n",
       "      <td>...</td>\n",
       "    </tr>\n",
       "    <tr>\n",
       "      <th>72</th>\n",
       "      <td>Wilmington</td>\n",
       "      <td>11</td>\n",
       "      <td>1975</td>\n",
       "      <td>225</td>\n",
       "      <td>403</td>\n",
       "    </tr>\n",
       "    <tr>\n",
       "      <th>73</th>\n",
       "      <td>Winchester</td>\n",
       "      <td>9</td>\n",
       "      <td>1925</td>\n",
       "      <td>182</td>\n",
       "      <td>370</td>\n",
       "    </tr>\n",
       "    <tr>\n",
       "      <th>74</th>\n",
       "      <td>Winthrop Town</td>\n",
       "      <td>11</td>\n",
       "      <td>4462</td>\n",
       "      <td>499</td>\n",
       "      <td>1586</td>\n",
       "    </tr>\n",
       "    <tr>\n",
       "      <th>75</th>\n",
       "      <td>Woburn</td>\n",
       "      <td>17</td>\n",
       "      <td>4790</td>\n",
       "      <td>826</td>\n",
       "      <td>1069</td>\n",
       "    </tr>\n",
       "    <tr>\n",
       "      <th>76</th>\n",
       "      <td>Worcester</td>\n",
       "      <td>60</td>\n",
       "      <td>42567</td>\n",
       "      <td>25455</td>\n",
       "      <td>14501</td>\n",
       "    </tr>\n",
       "  </tbody>\n",
       "</table>\n",
       "<p>77 rows × 5 columns</p>\n",
       "</div>"
      ],
      "text/plain": [
       "             City  Adoption Rate (%)  Eligible Households  \\\n",
       "0        Abington                 17                 2169   \n",
       "1     Agawam Town                 20                 5414   \n",
       "2   Amesbury Town                 26                 1821   \n",
       "3       Arlington                 14                 4816   \n",
       "4       Attleboro                 25                 6110   \n",
       "..            ...                ...                  ...   \n",
       "72     Wilmington                 11                 1975   \n",
       "73     Winchester                  9                 1925   \n",
       "74  Winthrop Town                 11                 4462   \n",
       "75         Woburn                 17                 4790   \n",
       "76      Worcester                 60                42567   \n",
       "\n",
       "    Enrolled Households  Eligible Unconnected Households  \n",
       "0                   376                              448  \n",
       "1                  1069                             2213  \n",
       "2                   477                              382  \n",
       "3                   651                              925  \n",
       "4                  1525                             1392  \n",
       "..                  ...                              ...  \n",
       "72                  225                              403  \n",
       "73                  182                              370  \n",
       "74                  499                             1586  \n",
       "75                  826                             1069  \n",
       "76                25455                            14501  \n",
       "\n",
       "[77 rows x 5 columns]"
      ]
     },
     "execution_count": 62,
     "metadata": {},
     "output_type": "execute_result"
    }
   ],
   "source": [
    "ma_acp_adoption = ma_acp_adoption.rename(columns={\"Adoption Rate\":\"Adoption Rate (%)\"})\n",
    "ma_acp_adoption"
   ]
  },
  {
   "cell_type": "code",
   "execution_count": 67,
   "id": "17aca6fc-0698-492b-af42-84a2114bae00",
   "metadata": {},
   "outputs": [
    {
     "data": {
      "text/html": [
       "<div>\n",
       "<style scoped>\n",
       "    .dataframe tbody tr th:only-of-type {\n",
       "        vertical-align: middle;\n",
       "    }\n",
       "\n",
       "    .dataframe tbody tr th {\n",
       "        vertical-align: top;\n",
       "    }\n",
       "\n",
       "    .dataframe thead th {\n",
       "        text-align: right;\n",
       "    }\n",
       "</style>\n",
       "<table border=\"1\" class=\"dataframe\">\n",
       "  <thead>\n",
       "    <tr style=\"text-align: right;\">\n",
       "      <th></th>\n",
       "      <th>City</th>\n",
       "      <th>Weighted Average of Lack of Health Insurance (%)</th>\n",
       "    </tr>\n",
       "  </thead>\n",
       "  <tbody>\n",
       "    <tr>\n",
       "      <th>0</th>\n",
       "      <td>Abington</td>\n",
       "      <td>5.800000</td>\n",
       "    </tr>\n",
       "    <tr>\n",
       "      <th>4</th>\n",
       "      <td>Agawam</td>\n",
       "      <td>6.200000</td>\n",
       "    </tr>\n",
       "    <tr>\n",
       "      <th>6</th>\n",
       "      <td>Amesbury</td>\n",
       "      <td>5.600000</td>\n",
       "    </tr>\n",
       "    <tr>\n",
       "      <th>9</th>\n",
       "      <td>Arlington</td>\n",
       "      <td>4.160871</td>\n",
       "    </tr>\n",
       "    <tr>\n",
       "      <th>17</th>\n",
       "      <td>Attleboro</td>\n",
       "      <td>7.200000</td>\n",
       "    </tr>\n",
       "    <tr>\n",
       "      <th>...</th>\n",
       "      <td>...</td>\n",
       "      <td>...</td>\n",
       "    </tr>\n",
       "    <tr>\n",
       "      <th>446</th>\n",
       "      <td>Wilmington</td>\n",
       "      <td>5.200000</td>\n",
       "    </tr>\n",
       "    <tr>\n",
       "      <th>448</th>\n",
       "      <td>Winchester</td>\n",
       "      <td>3.500000</td>\n",
       "    </tr>\n",
       "    <tr>\n",
       "      <th>450</th>\n",
       "      <td>Winthrop</td>\n",
       "      <td>6.100000</td>\n",
       "    </tr>\n",
       "    <tr>\n",
       "      <th>451</th>\n",
       "      <td>Woburn</td>\n",
       "      <td>5.800000</td>\n",
       "    </tr>\n",
       "    <tr>\n",
       "      <th>453</th>\n",
       "      <td>Worcester</td>\n",
       "      <td>10.344102</td>\n",
       "    </tr>\n",
       "  </tbody>\n",
       "</table>\n",
       "<p>77 rows × 2 columns</p>\n",
       "</div>"
      ],
      "text/plain": [
       "           City  Weighted Average of Lack of Health Insurance (%)\n",
       "0      Abington                                          5.800000\n",
       "4        Agawam                                          6.200000\n",
       "6      Amesbury                                          5.600000\n",
       "9     Arlington                                          4.160871\n",
       "17    Attleboro                                          7.200000\n",
       "..          ...                                               ...\n",
       "446  Wilmington                                          5.200000\n",
       "448  Winchester                                          3.500000\n",
       "450    Winthrop                                          6.100000\n",
       "451      Woburn                                          5.800000\n",
       "453   Worcester                                         10.344102\n",
       "\n",
       "[77 rows x 2 columns]"
      ]
     },
     "execution_count": 67,
     "metadata": {},
     "output_type": "execute_result"
    }
   ],
   "source": [
    "#Trim down aggregated_health_insurance to the rows which contain towns from the superhighway dataset\n",
    "health_insurance_acp = aggregated_health_insurance[aggregated_health_insurance[\"City\"].isin(list(ma_acp_adoption[\"City\"]))]\n",
    "health_insurance_acp"
   ]
  },
  {
   "cell_type": "code",
   "execution_count": 74,
   "id": "e12167fe-7b25-47eb-a1bf-41ff5747f731",
   "metadata": {},
   "outputs": [],
   "source": [
    "#Merge datasets\n",
    "health_insurance_vs_acp_adoption = health_insurance_acp.merge(ma_acp_adoption[[\"City\", \"Adoption Rate (%)\"]], left_on=\"City\", right_on=\"City\")\n",
    "health_insurance_vs_acp_adoption = health_insurance_vs_acp_adoption.rename(columns={\"Weighted Average of Lack of Health Insurance (%)\": \"Estimated Lack of Health Insurance (%)\"})"
   ]
  },
  {
   "cell_type": "markdown",
   "id": "c43f6b8c-b453-452d-b1c1-0ba361f0e9e6",
   "metadata": {},
   "source": [
    "<h2>Plotting the ACP Adoption Percent by Town vs. the Est. Percent of Individuals with a Lack of Health Insurance</h2>"
   ]
  },
  {
   "cell_type": "code",
   "execution_count": 78,
   "id": "c5a4af32-695f-4305-87a7-3f7d423ff7bf",
   "metadata": {},
   "outputs": [
    {
     "data": {
      "application/vnd.plotly.v1+json": {
       "config": {
        "plotlyServerURL": "https://plot.ly"
       },
       "data": [
        {
         "hovertemplate": "Adoption Rate (%)=%{x}<br>Estimated Lack of Health Insurance (%)=%{y}<extra></extra>",
         "legendgroup": "",
         "marker": {
          "color": "#636efa",
          "symbol": "circle"
         },
         "mode": "markers",
         "name": "",
         "orientation": "v",
         "showlegend": false,
         "type": "scatter",
         "x": [
          17,
          20,
          26,
          14,
          25,
          17,
          11,
          21,
          29,
          21,
          51,
          16,
          13,
          23,
          29,
          65,
          17,
          13,
          38,
          23,
          39,
          36,
          19,
          15,
          29,
          21,
          23,
          59,
          20,
          54,
          20,
          11,
          9,
          30,
          32,
          25,
          8,
          18,
          12,
          14,
          20,
          16,
          10,
          16,
          37,
          11,
          12,
          73,
          26,
          14,
          30,
          22,
          69,
          24,
          10,
          22,
          30,
          26,
          10,
          12,
          100,
          52,
          14,
          7,
          31,
          12,
          17,
          17,
          13,
          29,
          24,
          25,
          11,
          9,
          11,
          17,
          60
         ],
         "xaxis": "x",
         "y": [
          5.8,
          6.2,
          5.6,
          4.160870887175589,
          7.2,
          4.3,
          4,
          5.5,
          8.505238620975184,
          5.5,
          10.781736969371305,
          4.278955473342222,
          4.9,
          5.315960839828759,
          19,
          9.213872915468661,
          5.4,
          5.4,
          5.8,
          10.9,
          10.301022659992464,
          10,
          7.79899668796164,
          4.6,
          7.9,
          5.9,
          8.268008585098297,
          15.9,
          5.8,
          20.82105287136381,
          8.5,
          3.2,
          4.2,
          10.36391850458172,
          13.449435476625435,
          8,
          3.7000000000000006,
          7.2,
          5.8,
          4.5,
          8.7,
          7.6,
          4.8,
          3.5999999999999996,
          11.813379191917175,
          4.2,
          4.4,
          8.2,
          5.800000000000001,
          5.6,
          6.6,
          6.9,
          7.7,
          6.780384431709646,
          4,
          11,
          7.5,
          6.7,
          6.040884461715287,
          6.592328503654315,
          11.5,
          14.990852425067372,
          5,
          4.4,
          8.5,
          4.9,
          6.670538243626062,
          5,
          4.1,
          7.7,
          6.9,
          5.9,
          5.2,
          3.5,
          6.1,
          5.8,
          10.344102097162663
         ],
         "yaxis": "y"
        }
       ],
       "layout": {
        "autosize": true,
        "legend": {
         "tracegroupgap": 0
        },
        "template": {
         "data": {
          "bar": [
           {
            "error_x": {
             "color": "#2a3f5f"
            },
            "error_y": {
             "color": "#2a3f5f"
            },
            "marker": {
             "line": {
              "color": "#E5ECF6",
              "width": 0.5
             },
             "pattern": {
              "fillmode": "overlay",
              "size": 10,
              "solidity": 0.2
             }
            },
            "type": "bar"
           }
          ],
          "barpolar": [
           {
            "marker": {
             "line": {
              "color": "#E5ECF6",
              "width": 0.5
             },
             "pattern": {
              "fillmode": "overlay",
              "size": 10,
              "solidity": 0.2
             }
            },
            "type": "barpolar"
           }
          ],
          "carpet": [
           {
            "aaxis": {
             "endlinecolor": "#2a3f5f",
             "gridcolor": "white",
             "linecolor": "white",
             "minorgridcolor": "white",
             "startlinecolor": "#2a3f5f"
            },
            "baxis": {
             "endlinecolor": "#2a3f5f",
             "gridcolor": "white",
             "linecolor": "white",
             "minorgridcolor": "white",
             "startlinecolor": "#2a3f5f"
            },
            "type": "carpet"
           }
          ],
          "choropleth": [
           {
            "colorbar": {
             "outlinewidth": 0,
             "ticks": ""
            },
            "type": "choropleth"
           }
          ],
          "contour": [
           {
            "colorbar": {
             "outlinewidth": 0,
             "ticks": ""
            },
            "colorscale": [
             [
              0,
              "#0d0887"
             ],
             [
              0.1111111111111111,
              "#46039f"
             ],
             [
              0.2222222222222222,
              "#7201a8"
             ],
             [
              0.3333333333333333,
              "#9c179e"
             ],
             [
              0.4444444444444444,
              "#bd3786"
             ],
             [
              0.5555555555555556,
              "#d8576b"
             ],
             [
              0.6666666666666666,
              "#ed7953"
             ],
             [
              0.7777777777777778,
              "#fb9f3a"
             ],
             [
              0.8888888888888888,
              "#fdca26"
             ],
             [
              1,
              "#f0f921"
             ]
            ],
            "type": "contour"
           }
          ],
          "contourcarpet": [
           {
            "colorbar": {
             "outlinewidth": 0,
             "ticks": ""
            },
            "type": "contourcarpet"
           }
          ],
          "heatmap": [
           {
            "colorbar": {
             "outlinewidth": 0,
             "ticks": ""
            },
            "colorscale": [
             [
              0,
              "#0d0887"
             ],
             [
              0.1111111111111111,
              "#46039f"
             ],
             [
              0.2222222222222222,
              "#7201a8"
             ],
             [
              0.3333333333333333,
              "#9c179e"
             ],
             [
              0.4444444444444444,
              "#bd3786"
             ],
             [
              0.5555555555555556,
              "#d8576b"
             ],
             [
              0.6666666666666666,
              "#ed7953"
             ],
             [
              0.7777777777777778,
              "#fb9f3a"
             ],
             [
              0.8888888888888888,
              "#fdca26"
             ],
             [
              1,
              "#f0f921"
             ]
            ],
            "type": "heatmap"
           }
          ],
          "heatmapgl": [
           {
            "colorbar": {
             "outlinewidth": 0,
             "ticks": ""
            },
            "colorscale": [
             [
              0,
              "#0d0887"
             ],
             [
              0.1111111111111111,
              "#46039f"
             ],
             [
              0.2222222222222222,
              "#7201a8"
             ],
             [
              0.3333333333333333,
              "#9c179e"
             ],
             [
              0.4444444444444444,
              "#bd3786"
             ],
             [
              0.5555555555555556,
              "#d8576b"
             ],
             [
              0.6666666666666666,
              "#ed7953"
             ],
             [
              0.7777777777777778,
              "#fb9f3a"
             ],
             [
              0.8888888888888888,
              "#fdca26"
             ],
             [
              1,
              "#f0f921"
             ]
            ],
            "type": "heatmapgl"
           }
          ],
          "histogram": [
           {
            "marker": {
             "pattern": {
              "fillmode": "overlay",
              "size": 10,
              "solidity": 0.2
             }
            },
            "type": "histogram"
           }
          ],
          "histogram2d": [
           {
            "colorbar": {
             "outlinewidth": 0,
             "ticks": ""
            },
            "colorscale": [
             [
              0,
              "#0d0887"
             ],
             [
              0.1111111111111111,
              "#46039f"
             ],
             [
              0.2222222222222222,
              "#7201a8"
             ],
             [
              0.3333333333333333,
              "#9c179e"
             ],
             [
              0.4444444444444444,
              "#bd3786"
             ],
             [
              0.5555555555555556,
              "#d8576b"
             ],
             [
              0.6666666666666666,
              "#ed7953"
             ],
             [
              0.7777777777777778,
              "#fb9f3a"
             ],
             [
              0.8888888888888888,
              "#fdca26"
             ],
             [
              1,
              "#f0f921"
             ]
            ],
            "type": "histogram2d"
           }
          ],
          "histogram2dcontour": [
           {
            "colorbar": {
             "outlinewidth": 0,
             "ticks": ""
            },
            "colorscale": [
             [
              0,
              "#0d0887"
             ],
             [
              0.1111111111111111,
              "#46039f"
             ],
             [
              0.2222222222222222,
              "#7201a8"
             ],
             [
              0.3333333333333333,
              "#9c179e"
             ],
             [
              0.4444444444444444,
              "#bd3786"
             ],
             [
              0.5555555555555556,
              "#d8576b"
             ],
             [
              0.6666666666666666,
              "#ed7953"
             ],
             [
              0.7777777777777778,
              "#fb9f3a"
             ],
             [
              0.8888888888888888,
              "#fdca26"
             ],
             [
              1,
              "#f0f921"
             ]
            ],
            "type": "histogram2dcontour"
           }
          ],
          "mesh3d": [
           {
            "colorbar": {
             "outlinewidth": 0,
             "ticks": ""
            },
            "type": "mesh3d"
           }
          ],
          "parcoords": [
           {
            "line": {
             "colorbar": {
              "outlinewidth": 0,
              "ticks": ""
             }
            },
            "type": "parcoords"
           }
          ],
          "pie": [
           {
            "automargin": true,
            "type": "pie"
           }
          ],
          "scatter": [
           {
            "marker": {
             "colorbar": {
              "outlinewidth": 0,
              "ticks": ""
             }
            },
            "type": "scatter"
           }
          ],
          "scatter3d": [
           {
            "line": {
             "colorbar": {
              "outlinewidth": 0,
              "ticks": ""
             }
            },
            "marker": {
             "colorbar": {
              "outlinewidth": 0,
              "ticks": ""
             }
            },
            "type": "scatter3d"
           }
          ],
          "scattercarpet": [
           {
            "marker": {
             "colorbar": {
              "outlinewidth": 0,
              "ticks": ""
             }
            },
            "type": "scattercarpet"
           }
          ],
          "scattergeo": [
           {
            "marker": {
             "colorbar": {
              "outlinewidth": 0,
              "ticks": ""
             }
            },
            "type": "scattergeo"
           }
          ],
          "scattergl": [
           {
            "marker": {
             "colorbar": {
              "outlinewidth": 0,
              "ticks": ""
             }
            },
            "type": "scattergl"
           }
          ],
          "scattermapbox": [
           {
            "marker": {
             "colorbar": {
              "outlinewidth": 0,
              "ticks": ""
             }
            },
            "type": "scattermapbox"
           }
          ],
          "scatterpolar": [
           {
            "marker": {
             "colorbar": {
              "outlinewidth": 0,
              "ticks": ""
             }
            },
            "type": "scatterpolar"
           }
          ],
          "scatterpolargl": [
           {
            "marker": {
             "colorbar": {
              "outlinewidth": 0,
              "ticks": ""
             }
            },
            "type": "scatterpolargl"
           }
          ],
          "scatterternary": [
           {
            "marker": {
             "colorbar": {
              "outlinewidth": 0,
              "ticks": ""
             }
            },
            "type": "scatterternary"
           }
          ],
          "surface": [
           {
            "colorbar": {
             "outlinewidth": 0,
             "ticks": ""
            },
            "colorscale": [
             [
              0,
              "#0d0887"
             ],
             [
              0.1111111111111111,
              "#46039f"
             ],
             [
              0.2222222222222222,
              "#7201a8"
             ],
             [
              0.3333333333333333,
              "#9c179e"
             ],
             [
              0.4444444444444444,
              "#bd3786"
             ],
             [
              0.5555555555555556,
              "#d8576b"
             ],
             [
              0.6666666666666666,
              "#ed7953"
             ],
             [
              0.7777777777777778,
              "#fb9f3a"
             ],
             [
              0.8888888888888888,
              "#fdca26"
             ],
             [
              1,
              "#f0f921"
             ]
            ],
            "type": "surface"
           }
          ],
          "table": [
           {
            "cells": {
             "fill": {
              "color": "#EBF0F8"
             },
             "line": {
              "color": "white"
             }
            },
            "header": {
             "fill": {
              "color": "#C8D4E3"
             },
             "line": {
              "color": "white"
             }
            },
            "type": "table"
           }
          ]
         },
         "layout": {
          "annotationdefaults": {
           "arrowcolor": "#2a3f5f",
           "arrowhead": 0,
           "arrowwidth": 1
          },
          "autotypenumbers": "strict",
          "coloraxis": {
           "colorbar": {
            "outlinewidth": 0,
            "ticks": ""
           }
          },
          "colorscale": {
           "diverging": [
            [
             0,
             "#8e0152"
            ],
            [
             0.1,
             "#c51b7d"
            ],
            [
             0.2,
             "#de77ae"
            ],
            [
             0.3,
             "#f1b6da"
            ],
            [
             0.4,
             "#fde0ef"
            ],
            [
             0.5,
             "#f7f7f7"
            ],
            [
             0.6,
             "#e6f5d0"
            ],
            [
             0.7,
             "#b8e186"
            ],
            [
             0.8,
             "#7fbc41"
            ],
            [
             0.9,
             "#4d9221"
            ],
            [
             1,
             "#276419"
            ]
           ],
           "sequential": [
            [
             0,
             "#0d0887"
            ],
            [
             0.1111111111111111,
             "#46039f"
            ],
            [
             0.2222222222222222,
             "#7201a8"
            ],
            [
             0.3333333333333333,
             "#9c179e"
            ],
            [
             0.4444444444444444,
             "#bd3786"
            ],
            [
             0.5555555555555556,
             "#d8576b"
            ],
            [
             0.6666666666666666,
             "#ed7953"
            ],
            [
             0.7777777777777778,
             "#fb9f3a"
            ],
            [
             0.8888888888888888,
             "#fdca26"
            ],
            [
             1,
             "#f0f921"
            ]
           ],
           "sequentialminus": [
            [
             0,
             "#0d0887"
            ],
            [
             0.1111111111111111,
             "#46039f"
            ],
            [
             0.2222222222222222,
             "#7201a8"
            ],
            [
             0.3333333333333333,
             "#9c179e"
            ],
            [
             0.4444444444444444,
             "#bd3786"
            ],
            [
             0.5555555555555556,
             "#d8576b"
            ],
            [
             0.6666666666666666,
             "#ed7953"
            ],
            [
             0.7777777777777778,
             "#fb9f3a"
            ],
            [
             0.8888888888888888,
             "#fdca26"
            ],
            [
             1,
             "#f0f921"
            ]
           ]
          },
          "colorway": [
           "#636efa",
           "#EF553B",
           "#00cc96",
           "#ab63fa",
           "#FFA15A",
           "#19d3f3",
           "#FF6692",
           "#B6E880",
           "#FF97FF",
           "#FECB52"
          ],
          "font": {
           "color": "#2a3f5f"
          },
          "geo": {
           "bgcolor": "white",
           "lakecolor": "white",
           "landcolor": "#E5ECF6",
           "showlakes": true,
           "showland": true,
           "subunitcolor": "white"
          },
          "hoverlabel": {
           "align": "left"
          },
          "hovermode": "closest",
          "mapbox": {
           "style": "light"
          },
          "paper_bgcolor": "white",
          "plot_bgcolor": "#E5ECF6",
          "polar": {
           "angularaxis": {
            "gridcolor": "white",
            "linecolor": "white",
            "ticks": ""
           },
           "bgcolor": "#E5ECF6",
           "radialaxis": {
            "gridcolor": "white",
            "linecolor": "white",
            "ticks": ""
           }
          },
          "scene": {
           "xaxis": {
            "backgroundcolor": "#E5ECF6",
            "gridcolor": "white",
            "gridwidth": 2,
            "linecolor": "white",
            "showbackground": true,
            "ticks": "",
            "zerolinecolor": "white"
           },
           "yaxis": {
            "backgroundcolor": "#E5ECF6",
            "gridcolor": "white",
            "gridwidth": 2,
            "linecolor": "white",
            "showbackground": true,
            "ticks": "",
            "zerolinecolor": "white"
           },
           "zaxis": {
            "backgroundcolor": "#E5ECF6",
            "gridcolor": "white",
            "gridwidth": 2,
            "linecolor": "white",
            "showbackground": true,
            "ticks": "",
            "zerolinecolor": "white"
           }
          },
          "shapedefaults": {
           "line": {
            "color": "#2a3f5f"
           }
          },
          "ternary": {
           "aaxis": {
            "gridcolor": "white",
            "linecolor": "white",
            "ticks": ""
           },
           "baxis": {
            "gridcolor": "white",
            "linecolor": "white",
            "ticks": ""
           },
           "bgcolor": "#E5ECF6",
           "caxis": {
            "gridcolor": "white",
            "linecolor": "white",
            "ticks": ""
           }
          },
          "title": {
           "x": 0.05
          },
          "xaxis": {
           "automargin": true,
           "gridcolor": "white",
           "linecolor": "white",
           "ticks": "",
           "title": {
            "standoff": 15
           },
           "zerolinecolor": "white",
           "zerolinewidth": 2
          },
          "yaxis": {
           "automargin": true,
           "gridcolor": "white",
           "linecolor": "white",
           "ticks": "",
           "title": {
            "standoff": 15
           },
           "zerolinecolor": "white",
           "zerolinewidth": 2
          }
         }
        },
        "title": {
         "text": "ACP Adoption Rate (%) vs. Estimated Lack of Health Insurance (%) in MA towns"
        },
        "xaxis": {
         "anchor": "y",
         "autorange": true,
         "domain": [
          0,
          1
         ],
         "range": [
          1.4788693743139394,
          105.52113062568606
         ],
         "title": {
          "text": "Adoption Rate (%)"
         },
         "type": "linear"
        },
        "yaxis": {
         "anchor": "x",
         "autorange": true,
         "domain": [
          0,
          1
         ],
         "range": [
          1.745835442654443,
          22.275217428709368
         ],
         "title": {
          "text": "Estimated Lack of Health Insurance (%)"
         },
         "type": "linear"
        }
       }
      },
      "image/png": "[encoded data removed]",
      "text/html": [
       "<div>                            <div id=\"869907be-1661-415a-9138-986a20b35408\" class=\"plotly-graph-div\" style=\"height:525px; width:100%;\"></div>            <script type=\"text/javascript\">                require([\"plotly\"], function(Plotly) {                    window.PLOTLYENV=window.PLOTLYENV || {};                                    if (document.getElementById(\"869907be-1661-415a-9138-986a20b35408\")) {                    Plotly.newPlot(                        \"869907be-1661-415a-9138-986a20b35408\",                        [{\"hovertemplate\":\"Adoption Rate (%)=%{x}<br>Estimated Lack of Health Insurance (%)=%{y}<extra></extra>\",\"legendgroup\":\"\",\"marker\":{\"color\":\"#636efa\",\"symbol\":\"circle\"},\"mode\":\"markers\",\"name\":\"\",\"orientation\":\"v\",\"showlegend\":false,\"x\":[17,20,26,14,25,17,11,21,29,21,51,16,13,23,29,65,17,13,38,23,39,36,19,15,29,21,23,59,20,54,20,11,9,30,32,25,8,18,12,14,20,16,10,16,37,11,12,73,26,14,30,22,69,24,10,22,30,26,10,12,100,52,14,7,31,12,17,17,13,29,24,25,11,9,11,17,60],\"xaxis\":\"x\",\"y\":[5.8,6.2,5.6,4.160870887175589,7.2,4.3,4.0,5.5,8.505238620975184,5.5,10.781736969371305,4.278955473342222,4.9,5.315960839828759,19.0,9.213872915468661,5.4,5.4,5.8,10.9,10.301022659992464,10.0,7.79899668796164,4.6,7.9,5.9,8.268008585098297,15.9,5.8,20.82105287136381,8.5,3.2,4.2,10.36391850458172,13.449435476625435,8.0,3.7000000000000006,7.2,5.8,4.5,8.7,7.6,4.8,3.5999999999999996,11.813379191917175,4.2,4.4,8.2,5.800000000000001,5.6,6.6,6.9,7.7,6.780384431709646,4.0,11.0,7.5,6.7,6.040884461715287,6.592328503654315,11.5,14.990852425067372,5.0,4.4,8.5,4.9,6.670538243626062,5.0,4.1,7.7,6.9,5.9,5.2,3.5,6.1,5.8,10.344102097162663],\"yaxis\":\"y\",\"type\":\"scatter\"}],                        {\"template\":{\"data\":{\"bar\":[{\"error_x\":{\"color\":\"#2a3f5f\"},\"error_y\":{\"color\":\"#2a3f5f\"},\"marker\":{\"line\":{\"color\":\"#E5ECF6\",\"width\":0.5},\"pattern\":{\"fillmode\":\"overlay\",\"size\":10,\"solidity\":0.2}},\"type\":\"bar\"}],\"barpolar\":[{\"marker\":{\"line\":{\"color\":\"#E5ECF6\",\"width\":0.5},\"pattern\":{\"fillmode\":\"overlay\",\"size\":10,\"solidity\":0.2}},\"type\":\"barpolar\"}],\"carpet\":[{\"aaxis\":{\"endlinecolor\":\"#2a3f5f\",\"gridcolor\":\"white\",\"linecolor\":\"white\",\"minorgridcolor\":\"white\",\"startlinecolor\":\"#2a3f5f\"},\"baxis\":{\"endlinecolor\":\"#2a3f5f\",\"gridcolor\":\"white\",\"linecolor\":\"white\",\"minorgridcolor\":\"white\",\"startlinecolor\":\"#2a3f5f\"},\"type\":\"carpet\"}],\"choropleth\":[{\"colorbar\":{\"outlinewidth\":0,\"ticks\":\"\"},\"type\":\"choropleth\"}],\"contour\":[{\"colorbar\":{\"outlinewidth\":0,\"ticks\":\"\"},\"colorscale\":[[0.0,\"#0d0887\"],[0.1111111111111111,\"#46039f\"],[0.2222222222222222,\"#7201a8\"],[0.3333333333333333,\"#9c179e\"],[0.4444444444444444,\"#bd3786\"],[0.5555555555555556,\"#d8576b\"],[0.6666666666666666,\"#ed7953\"],[0.7777777777777778,\"#fb9f3a\"],[0.8888888888888888,\"#fdca26\"],[1.0,\"#f0f921\"]],\"type\":\"contour\"}],\"contourcarpet\":[{\"colorbar\":{\"outlinewidth\":0,\"ticks\":\"\"},\"type\":\"contourcarpet\"}],\"heatmap\":[{\"colorbar\":{\"outlinewidth\":0,\"ticks\":\"\"},\"colorscale\":[[0.0,\"#0d0887\"],[0.1111111111111111,\"#46039f\"],[0.2222222222222222,\"#7201a8\"],[0.3333333333333333,\"#9c179e\"],[0.4444444444444444,\"#bd3786\"],[0.5555555555555556,\"#d8576b\"],[0.6666666666666666,\"#ed7953\"],[0.7777777777777778,\"#fb9f3a\"],[0.8888888888888888,\"#fdca26\"],[1.0,\"#f0f921\"]],\"type\":\"heatmap\"}],\"heatmapgl\":[{\"colorbar\":{\"outlinewidth\":0,\"ticks\":\"\"},\"colorscale\":[[0.0,\"#0d0887\"],[0.1111111111111111,\"#46039f\"],[0.2222222222222222,\"#7201a8\"],[0.3333333333333333,\"#9c179e\"],[0.4444444444444444,\"#bd3786\"],[0.5555555555555556,\"#d8576b\"],[0.6666666666666666,\"#ed7953\"],[0.7777777777777778,\"#fb9f3a\"],[0.8888888888888888,\"#fdca26\"],[1.0,\"#f0f921\"]],\"type\":\"heatmapgl\"}],\"histogram\":[{\"marker\":{\"pattern\":{\"fillmode\":\"overlay\",\"size\":10,\"solidity\":0.2}},\"type\":\"histogram\"}],\"histogram2d\":[{\"colorbar\":{\"outlinewidth\":0,\"ticks\":\"\"},\"colorscale\":[[0.0,\"#0d0887\"],[0.1111111111111111,\"#46039f\"],[0.2222222222222222,\"#7201a8\"],[0.3333333333333333,\"#9c179e\"],[0.4444444444444444,\"#bd3786\"],[0.5555555555555556,\"#d8576b\"],[0.6666666666666666,\"#ed7953\"],[0.7777777777777778,\"#fb9f3a\"],[0.8888888888888888,\"#fdca26\"],[1.0,\"#f0f921\"]],\"type\":\"histogram2d\"}],\"histogram2dcontour\":[{\"colorbar\":{\"outlinewidth\":0,\"ticks\":\"\"},\"colorscale\":[[0.0,\"#0d0887\"],[0.1111111111111111,\"#46039f\"],[0.2222222222222222,\"#7201a8\"],[0.3333333333333333,\"#9c179e\"],[0.4444444444444444,\"#bd3786\"],[0.5555555555555556,\"#d8576b\"],[0.6666666666666666,\"#ed7953\"],[0.7777777777777778,\"#fb9f3a\"],[0.8888888888888888,\"#fdca26\"],[1.0,\"#f0f921\"]],\"type\":\"histogram2dcontour\"}],\"mesh3d\":[{\"colorbar\":{\"outlinewidth\":0,\"ticks\":\"\"},\"type\":\"mesh3d\"}],\"parcoords\":[{\"line\":{\"colorbar\":{\"outlinewidth\":0,\"ticks\":\"\"}},\"type\":\"parcoords\"}],\"pie\":[{\"automargin\":true,\"type\":\"pie\"}],\"scatter\":[{\"marker\":{\"colorbar\":{\"outlinewidth\":0,\"ticks\":\"\"}},\"type\":\"scatter\"}],\"scatter3d\":[{\"line\":{\"colorbar\":{\"outlinewidth\":0,\"ticks\":\"\"}},\"marker\":{\"colorbar\":{\"outlinewidth\":0,\"ticks\":\"\"}},\"type\":\"scatter3d\"}],\"scattercarpet\":[{\"marker\":{\"colorbar\":{\"outlinewidth\":0,\"ticks\":\"\"}},\"type\":\"scattercarpet\"}],\"scattergeo\":[{\"marker\":{\"colorbar\":{\"outlinewidth\":0,\"ticks\":\"\"}},\"type\":\"scattergeo\"}],\"scattergl\":[{\"marker\":{\"colorbar\":{\"outlinewidth\":0,\"ticks\":\"\"}},\"type\":\"scattergl\"}],\"scattermapbox\":[{\"marker\":{\"colorbar\":{\"outlinewidth\":0,\"ticks\":\"\"}},\"type\":\"scattermapbox\"}],\"scatterpolar\":[{\"marker\":{\"colorbar\":{\"outlinewidth\":0,\"ticks\":\"\"}},\"type\":\"scatterpolar\"}],\"scatterpolargl\":[{\"marker\":{\"colorbar\":{\"outlinewidth\":0,\"ticks\":\"\"}},\"type\":\"scatterpolargl\"}],\"scatterternary\":[{\"marker\":{\"colorbar\":{\"outlinewidth\":0,\"ticks\":\"\"}},\"type\":\"scatterternary\"}],\"surface\":[{\"colorbar\":{\"outlinewidth\":0,\"ticks\":\"\"},\"colorscale\":[[0.0,\"#0d0887\"],[0.1111111111111111,\"#46039f\"],[0.2222222222222222,\"#7201a8\"],[0.3333333333333333,\"#9c179e\"],[0.4444444444444444,\"#bd3786\"],[0.5555555555555556,\"#d8576b\"],[0.6666666666666666,\"#ed7953\"],[0.7777777777777778,\"#fb9f3a\"],[0.8888888888888888,\"#fdca26\"],[1.0,\"#f0f921\"]],\"type\":\"surface\"}],\"table\":[{\"cells\":{\"fill\":{\"color\":\"#EBF0F8\"},\"line\":{\"color\":\"white\"}},\"header\":{\"fill\":{\"color\":\"#C8D4E3\"},\"line\":{\"color\":\"white\"}},\"type\":\"table\"}]},\"layout\":{\"annotationdefaults\":{\"arrowcolor\":\"#2a3f5f\",\"arrowhead\":0,\"arrowwidth\":1},\"autotypenumbers\":\"strict\",\"coloraxis\":{\"colorbar\":{\"outlinewidth\":0,\"ticks\":\"\"}},\"colorscale\":{\"diverging\":[[0,\"#8e0152\"],[0.1,\"#c51b7d\"],[0.2,\"#de77ae\"],[0.3,\"#f1b6da\"],[0.4,\"#fde0ef\"],[0.5,\"#f7f7f7\"],[0.6,\"#e6f5d0\"],[0.7,\"#b8e186\"],[0.8,\"#7fbc41\"],[0.9,\"#4d9221\"],[1,\"#276419\"]],\"sequential\":[[0.0,\"#0d0887\"],[0.1111111111111111,\"#46039f\"],[0.2222222222222222,\"#7201a8\"],[0.3333333333333333,\"#9c179e\"],[0.4444444444444444,\"#bd3786\"],[0.5555555555555556,\"#d8576b\"],[0.6666666666666666,\"#ed7953\"],[0.7777777777777778,\"#fb9f3a\"],[0.8888888888888888,\"#fdca26\"],[1.0,\"#f0f921\"]],\"sequentialminus\":[[0.0,\"#0d0887\"],[0.1111111111111111,\"#46039f\"],[0.2222222222222222,\"#7201a8\"],[0.3333333333333333,\"#9c179e\"],[0.4444444444444444,\"#bd3786\"],[0.5555555555555556,\"#d8576b\"],[0.6666666666666666,\"#ed7953\"],[0.7777777777777778,\"#fb9f3a\"],[0.8888888888888888,\"#fdca26\"],[1.0,\"#f0f921\"]]},\"colorway\":[\"#636efa\",\"#EF553B\",\"#00cc96\",\"#ab63fa\",\"#FFA15A\",\"#19d3f3\",\"#FF6692\",\"#B6E880\",\"#FF97FF\",\"#FECB52\"],\"font\":{\"color\":\"#2a3f5f\"},\"geo\":{\"bgcolor\":\"white\",\"lakecolor\":\"white\",\"landcolor\":\"#E5ECF6\",\"showlakes\":true,\"showland\":true,\"subunitcolor\":\"white\"},\"hoverlabel\":{\"align\":\"left\"},\"hovermode\":\"closest\",\"mapbox\":{\"style\":\"light\"},\"paper_bgcolor\":\"white\",\"plot_bgcolor\":\"#E5ECF6\",\"polar\":{\"angularaxis\":{\"gridcolor\":\"white\",\"linecolor\":\"white\",\"ticks\":\"\"},\"bgcolor\":\"#E5ECF6\",\"radialaxis\":{\"gridcolor\":\"white\",\"linecolor\":\"white\",\"ticks\":\"\"}},\"scene\":{\"xaxis\":{\"backgroundcolor\":\"#E5ECF6\",\"gridcolor\":\"white\",\"gridwidth\":2,\"linecolor\":\"white\",\"showbackground\":true,\"ticks\":\"\",\"zerolinecolor\":\"white\"},\"yaxis\":{\"backgroundcolor\":\"#E5ECF6\",\"gridcolor\":\"white\",\"gridwidth\":2,\"linecolor\":\"white\",\"showbackground\":true,\"ticks\":\"\",\"zerolinecolor\":\"white\"},\"zaxis\":{\"backgroundcolor\":\"#E5ECF6\",\"gridcolor\":\"white\",\"gridwidth\":2,\"linecolor\":\"white\",\"showbackground\":true,\"ticks\":\"\",\"zerolinecolor\":\"white\"}},\"shapedefaults\":{\"line\":{\"color\":\"#2a3f5f\"}},\"ternary\":{\"aaxis\":{\"gridcolor\":\"white\",\"linecolor\":\"white\",\"ticks\":\"\"},\"baxis\":{\"gridcolor\":\"white\",\"linecolor\":\"white\",\"ticks\":\"\"},\"bgcolor\":\"#E5ECF6\",\"caxis\":{\"gridcolor\":\"white\",\"linecolor\":\"white\",\"ticks\":\"\"}},\"title\":{\"x\":0.05},\"xaxis\":{\"automargin\":true,\"gridcolor\":\"white\",\"linecolor\":\"white\",\"ticks\":\"\",\"title\":{\"standoff\":15},\"zerolinecolor\":\"white\",\"zerolinewidth\":2},\"yaxis\":{\"automargin\":true,\"gridcolor\":\"white\",\"linecolor\":\"white\",\"ticks\":\"\",\"title\":{\"standoff\":15},\"zerolinecolor\":\"white\",\"zerolinewidth\":2}}},\"xaxis\":{\"anchor\":\"y\",\"domain\":[0.0,1.0],\"title\":{\"text\":\"Adoption Rate (%)\"}},\"yaxis\":{\"anchor\":\"x\",\"domain\":[0.0,1.0],\"title\":{\"text\":\"Estimated Lack of Health Insurance (%)\"}},\"legend\":{\"tracegroupgap\":0},\"title\":{\"text\":\"ACP Adoption Rate (%) vs. Estimated Lack of Health Insurance (%) in MA towns\"}},                        {\"responsive\": true}                    ).then(function(){\n",
       "                            \n",
       "var gd = document.getElementById('869907be-1661-415a-9138-986a20b35408');\n",
       "var x = new MutationObserver(function (mutations, observer) {{\n",
       "        var display = window.getComputedStyle(gd).display;\n",
       "        if (!display || display === 'none') {{\n",
       "            console.log([gd, 'removed!']);\n",
       "            Plotly.purge(gd);\n",
       "            observer.disconnect();\n",
       "        }}\n",
       "}});\n",
       "\n",
       "// Listen for the removal of the full notebook cells\n",
       "var notebookContainer = gd.closest('#notebook-container');\n",
       "if (notebookContainer) {{\n",
       "    x.observe(notebookContainer, {childList: true});\n",
       "}}\n",
       "\n",
       "// Listen for the clearing of the current output cell\n",
       "var outputEl = gd.closest('.output');\n",
       "if (outputEl) {{\n",
       "    x.observe(outputEl, {childList: true});\n",
       "}}\n",
       "\n",
       "                        })                };                });            </script>        </div>"
      ]
     },
     "metadata": {},
     "output_type": "display_data"
    }
   ],
   "source": [
    "import plotly.express as px\n",
    "\n",
    "#Plot ACP adoption percent by town vs. Estimated Percent of Individuals with a Lack of Health Insurance\n",
    "fig = px.scatter(health_insurance_vs_acp_adoption, \n",
    "                 x=\"Adoption Rate (%)\", \n",
    "                 y=\"Estimated Lack of Health Insurance (%)\",\n",
    "                 title=\"ACP Adoption Rate (%) vs. Estimated Lack of Health Insurance (%) in MA towns\"\n",
    "                )\n",
    "\n",
    "fig.show()"
   ]
  },
  {
   "cell_type": "code",
   "execution_count": null,
   "id": "564c9a5f-263c-4954-8427-fa29cafed6bf",
   "metadata": {},
   "outputs": [],
   "source": []
  }
 ],
 "metadata": {
  "kernelspec": {
   "display_name": "Python 3 (ipykernel)",
   "language": "python",
   "name": "python3"
  },
  "language_info": {
   "codemirror_mode": {
    "name": "ipython",
    "version": 3
   },
   "file_extension": ".py",
   "mimetype": "text/x-python",
   "name": "python",
   "nbconvert_exporter": "python",
   "pygments_lexer": "ipython3",
   "version": "3.9.12"
  }
 },
 "nbformat": 4,
 "nbformat_minor": 5
}
